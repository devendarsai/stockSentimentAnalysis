{
 "cells": [
  {
   "cell_type": "code",
   "execution_count": 19,
   "id": "0607a5c3",
   "metadata": {},
   "outputs": [],
   "source": [
    "import nltk\n",
    "from nltk.corpus import stopwords\n",
    "import json\n",
    "import csv\n",
    "import pandas as pd\n",
    "import numpy as np\n",
    "import re\n",
    "from sklearn.feature_extraction.text import TfidfVectorizer\n",
    "from sklearn.model_selection import train_test_split # Split Data\n",
    "import matplotlib.pyplot as plt\n",
    "import seaborn as sns"
   ]
  },
  {
   "cell_type": "code",
   "execution_count": 20,
   "id": "78b671c2",
   "metadata": {},
   "outputs": [
    {
     "name": "stdout",
     "output_type": "stream",
     "text": [
      "<class 'pandas.core.frame.DataFrame'>\n",
      "RangeIndex: 14640 entries, 0 to 14639\n",
      "Data columns (total 15 columns):\n",
      " #   Column                        Non-Null Count  Dtype  \n",
      "---  ------                        --------------  -----  \n",
      " 0   tweet_id                      14640 non-null  int64  \n",
      " 1   airline_sentiment             14640 non-null  object \n",
      " 2   airline_sentiment_confidence  14640 non-null  float64\n",
      " 3   negativereason                9178 non-null   object \n",
      " 4   negativereason_confidence     10522 non-null  float64\n",
      " 5   airline                       14640 non-null  object \n",
      " 6   airline_sentiment_gold        40 non-null     object \n",
      " 7   name                          14640 non-null  object \n",
      " 8   negativereason_gold           32 non-null     object \n",
      " 9   retweet_count                 14640 non-null  int64  \n",
      " 10  text                          14640 non-null  object \n",
      " 11  tweet_coord                   1019 non-null   object \n",
      " 12  tweet_created                 14640 non-null  object \n",
      " 13  tweet_location                9907 non-null   object \n",
      " 14  user_timezone                 9820 non-null   object \n",
      "dtypes: float64(2), int64(2), object(11)\n",
      "memory usage: 1.7+ MB\n"
     ]
    }
   ],
   "source": [
    "#Loading tweets data\n",
    "tweets_dataframe = pd.read_csv(r'Tweets.csv')\n",
    "tweets_dataframe.info()"
   ]
  },
  {
   "cell_type": "code",
   "execution_count": 21,
   "id": "013c2985",
   "metadata": {},
   "outputs": [
    {
     "data": {
      "text/html": [
       "<div>\n",
       "<style scoped>\n",
       "    .dataframe tbody tr th:only-of-type {\n",
       "        vertical-align: middle;\n",
       "    }\n",
       "\n",
       "    .dataframe tbody tr th {\n",
       "        vertical-align: top;\n",
       "    }\n",
       "\n",
       "    .dataframe thead th {\n",
       "        text-align: right;\n",
       "    }\n",
       "</style>\n",
       "<table border=\"1\" class=\"dataframe\">\n",
       "  <thead>\n",
       "    <tr style=\"text-align: right;\">\n",
       "      <th></th>\n",
       "      <th>tweet_id</th>\n",
       "      <th>airline_sentiment</th>\n",
       "      <th>airline_sentiment_confidence</th>\n",
       "      <th>negativereason</th>\n",
       "      <th>negativereason_confidence</th>\n",
       "      <th>airline</th>\n",
       "      <th>airline_sentiment_gold</th>\n",
       "      <th>name</th>\n",
       "      <th>negativereason_gold</th>\n",
       "      <th>retweet_count</th>\n",
       "      <th>text</th>\n",
       "      <th>tweet_coord</th>\n",
       "      <th>tweet_created</th>\n",
       "      <th>tweet_location</th>\n",
       "      <th>user_timezone</th>\n",
       "    </tr>\n",
       "  </thead>\n",
       "  <tbody>\n",
       "    <tr>\n",
       "      <th>0</th>\n",
       "      <td>570306133677760513</td>\n",
       "      <td>neutral</td>\n",
       "      <td>1.0000</td>\n",
       "      <td>NaN</td>\n",
       "      <td>NaN</td>\n",
       "      <td>Virgin America</td>\n",
       "      <td>NaN</td>\n",
       "      <td>cairdin</td>\n",
       "      <td>NaN</td>\n",
       "      <td>0</td>\n",
       "      <td>@VirginAmerica What @dhepburn said.</td>\n",
       "      <td>NaN</td>\n",
       "      <td>2015-02-24 11:35:52 -0800</td>\n",
       "      <td>NaN</td>\n",
       "      <td>Eastern Time (US &amp; Canada)</td>\n",
       "    </tr>\n",
       "    <tr>\n",
       "      <th>1</th>\n",
       "      <td>570301130888122368</td>\n",
       "      <td>positive</td>\n",
       "      <td>0.3486</td>\n",
       "      <td>NaN</td>\n",
       "      <td>0.0000</td>\n",
       "      <td>Virgin America</td>\n",
       "      <td>NaN</td>\n",
       "      <td>jnardino</td>\n",
       "      <td>NaN</td>\n",
       "      <td>0</td>\n",
       "      <td>@VirginAmerica plus you've added commercials t...</td>\n",
       "      <td>NaN</td>\n",
       "      <td>2015-02-24 11:15:59 -0800</td>\n",
       "      <td>NaN</td>\n",
       "      <td>Pacific Time (US &amp; Canada)</td>\n",
       "    </tr>\n",
       "    <tr>\n",
       "      <th>2</th>\n",
       "      <td>570301083672813571</td>\n",
       "      <td>neutral</td>\n",
       "      <td>0.6837</td>\n",
       "      <td>NaN</td>\n",
       "      <td>NaN</td>\n",
       "      <td>Virgin America</td>\n",
       "      <td>NaN</td>\n",
       "      <td>yvonnalynn</td>\n",
       "      <td>NaN</td>\n",
       "      <td>0</td>\n",
       "      <td>@VirginAmerica I didn't today... Must mean I n...</td>\n",
       "      <td>NaN</td>\n",
       "      <td>2015-02-24 11:15:48 -0800</td>\n",
       "      <td>Lets Play</td>\n",
       "      <td>Central Time (US &amp; Canada)</td>\n",
       "    </tr>\n",
       "    <tr>\n",
       "      <th>3</th>\n",
       "      <td>570301031407624196</td>\n",
       "      <td>negative</td>\n",
       "      <td>1.0000</td>\n",
       "      <td>Bad Flight</td>\n",
       "      <td>0.7033</td>\n",
       "      <td>Virgin America</td>\n",
       "      <td>NaN</td>\n",
       "      <td>jnardino</td>\n",
       "      <td>NaN</td>\n",
       "      <td>0</td>\n",
       "      <td>@VirginAmerica it's really aggressive to blast...</td>\n",
       "      <td>NaN</td>\n",
       "      <td>2015-02-24 11:15:36 -0800</td>\n",
       "      <td>NaN</td>\n",
       "      <td>Pacific Time (US &amp; Canada)</td>\n",
       "    </tr>\n",
       "    <tr>\n",
       "      <th>4</th>\n",
       "      <td>570300817074462722</td>\n",
       "      <td>negative</td>\n",
       "      <td>1.0000</td>\n",
       "      <td>Can't Tell</td>\n",
       "      <td>1.0000</td>\n",
       "      <td>Virgin America</td>\n",
       "      <td>NaN</td>\n",
       "      <td>jnardino</td>\n",
       "      <td>NaN</td>\n",
       "      <td>0</td>\n",
       "      <td>@VirginAmerica and it's a really big bad thing...</td>\n",
       "      <td>NaN</td>\n",
       "      <td>2015-02-24 11:14:45 -0800</td>\n",
       "      <td>NaN</td>\n",
       "      <td>Pacific Time (US &amp; Canada)</td>\n",
       "    </tr>\n",
       "  </tbody>\n",
       "</table>\n",
       "</div>"
      ],
      "text/plain": [
       "             tweet_id airline_sentiment  airline_sentiment_confidence  \\\n",
       "0  570306133677760513           neutral                        1.0000   \n",
       "1  570301130888122368          positive                        0.3486   \n",
       "2  570301083672813571           neutral                        0.6837   \n",
       "3  570301031407624196          negative                        1.0000   \n",
       "4  570300817074462722          negative                        1.0000   \n",
       "\n",
       "  negativereason  negativereason_confidence         airline  \\\n",
       "0            NaN                        NaN  Virgin America   \n",
       "1            NaN                     0.0000  Virgin America   \n",
       "2            NaN                        NaN  Virgin America   \n",
       "3     Bad Flight                     0.7033  Virgin America   \n",
       "4     Can't Tell                     1.0000  Virgin America   \n",
       "\n",
       "  airline_sentiment_gold        name negativereason_gold  retweet_count  \\\n",
       "0                    NaN     cairdin                 NaN              0   \n",
       "1                    NaN    jnardino                 NaN              0   \n",
       "2                    NaN  yvonnalynn                 NaN              0   \n",
       "3                    NaN    jnardino                 NaN              0   \n",
       "4                    NaN    jnardino                 NaN              0   \n",
       "\n",
       "                                                text tweet_coord  \\\n",
       "0                @VirginAmerica What @dhepburn said.         NaN   \n",
       "1  @VirginAmerica plus you've added commercials t...         NaN   \n",
       "2  @VirginAmerica I didn't today... Must mean I n...         NaN   \n",
       "3  @VirginAmerica it's really aggressive to blast...         NaN   \n",
       "4  @VirginAmerica and it's a really big bad thing...         NaN   \n",
       "\n",
       "               tweet_created tweet_location               user_timezone  \n",
       "0  2015-02-24 11:35:52 -0800            NaN  Eastern Time (US & Canada)  \n",
       "1  2015-02-24 11:15:59 -0800            NaN  Pacific Time (US & Canada)  \n",
       "2  2015-02-24 11:15:48 -0800      Lets Play  Central Time (US & Canada)  \n",
       "3  2015-02-24 11:15:36 -0800            NaN  Pacific Time (US & Canada)  \n",
       "4  2015-02-24 11:14:45 -0800            NaN  Pacific Time (US & Canada)  "
      ]
     },
     "execution_count": 21,
     "metadata": {},
     "output_type": "execute_result"
    }
   ],
   "source": [
    "tweets_data = pd.DataFrame(tweets_dataframe)\n",
    "tweets_data.head()"
   ]
  },
  {
   "cell_type": "code",
   "execution_count": 22,
   "id": "f798ca7a",
   "metadata": {},
   "outputs": [
    {
     "data": {
      "text/plain": [
       "(14640, 15)"
      ]
     },
     "execution_count": 22,
     "metadata": {},
     "output_type": "execute_result"
    }
   ],
   "source": [
    "tweets_data.shape"
   ]
  },
  {
   "cell_type": "code",
   "execution_count": 23,
   "id": "255011ac",
   "metadata": {},
   "outputs": [
    {
     "name": "stdout",
     "output_type": "stream",
     "text": [
      "Null Values present in the dataset : green\n",
      "tweet_id                            0\n",
      "airline_sentiment                   0\n",
      "airline_sentiment_confidence        0\n",
      "negativereason                   5462\n",
      "negativereason_confidence        4118\n",
      "airline                             0\n",
      "airline_sentiment_gold          14600\n",
      "name                                0\n",
      "negativereason_gold             14608\n",
      "retweet_count                       0\n",
      "text                                0\n",
      "tweet_coord                     13621\n",
      "tweet_created                       0\n",
      "tweet_location                   4733\n",
      "user_timezone                    4820\n",
      "dtype: int64\n"
     ]
    },
    {
     "data": {
      "image/png": "[encoded data removed]",
      "text/plain": [
       "<Figure size 1008x576 with 2 Axes>"
      ]
     },
     "metadata": {
      "needs_background": "light"
     },
     "output_type": "display_data"
    }
   ],
   "source": [
    "#Data visualization\n",
    "print('Null Values present in the dataset :','green')\n",
    "print(tweets_data.isnull().sum()) # showing null values of train data\n",
    "plt.figure(figsize=(14,8))\n",
    "\n",
    "sns.heatmap(tweets_data.isnull(), yticklabels = False, cmap='magma')\n",
    "plt.title('Null values present in the dataset',size=20);"
   ]
  },
  {
   "cell_type": "code",
   "execution_count": 24,
   "id": "e030a89f",
   "metadata": {},
   "outputs": [
    {
     "name": "stdout",
     "output_type": "stream",
     "text": [
      "Number of sentiments present in the tweets : green\n",
      "negative    9178\n",
      "neutral     3099\n",
      "positive    2363\n",
      "Name: airline_sentiment, dtype: int64\n"
     ]
    },
    {
     "data": {
      "image/png": "[encoded data removed]",
      "text/plain": [
       "<Figure size 720x576 with 1 Axes>"
      ]
     },
     "metadata": {
      "needs_background": "light"
     },
     "output_type": "display_data"
    }
   ],
   "source": [
    "print(\"Number of sentiments present in the tweets :\",'green')\n",
    "print(tweets_data.airline_sentiment.value_counts())\n",
    "plt.figure(figsize = (10, 8))\n",
    "ax = sns.countplot(x = 'airline_sentiment', data = tweets_data, palette = 'pastel')\n",
    "ax.set_title(label = 'Number of sentiments present in the tweets', fontsize = 20)\n",
    "plt.show()"
   ]
  },
  {
   "cell_type": "code",
   "execution_count": 25,
   "id": "cab53f9a",
   "metadata": {},
   "outputs": [],
   "source": [
    "#Text preprocessing\n",
    "def convert_Sentiment(sentiment):\n",
    "    if  sentiment == \"positive\":\n",
    "        return 2\n",
    "    elif sentiment == \"neutral\":\n",
    "        return 1\n",
    "    elif sentiment == \"negative\":\n",
    "        return 0"
   ]
  },
  {
   "cell_type": "code",
   "execution_count": 26,
   "id": "c531a35c",
   "metadata": {},
   "outputs": [
    {
     "data": {
      "text/plain": [
       "0        1\n",
       "1        2\n",
       "2        1\n",
       "3        0\n",
       "4        0\n",
       "        ..\n",
       "14635    2\n",
       "14636    0\n",
       "14637    1\n",
       "14638    0\n",
       "14639    1\n",
       "Name: airline_sentiment, Length: 14640, dtype: int64"
      ]
     },
     "execution_count": 26,
     "metadata": {},
     "output_type": "execute_result"
    }
   ],
   "source": [
    "tweetsData.airline_sentiment = tweets_data.airline_sentiment.apply(lambda x : convert_Sentiment(x))\n",
    "tweetsData.airline_sentiment"
   ]
  },
  {
   "cell_type": "code",
   "execution_count": 27,
   "id": "9f00ff2f",
   "metadata": {},
   "outputs": [],
   "source": [
    "#removing stop words\n",
    "def remove_stopwords(text):\n",
    "    text = ' '.join([word for word in text.split() if word not in (stopwords.words('english'))])\n",
    "    return text\n"
   ]
  },
  {
   "cell_type": "code",
   "execution_count": 29,
   "id": "de5e8133",
   "metadata": {},
   "outputs": [],
   "source": [
    "#removing URL's \n",
    "def remove_url(text):\n",
    "    url = re.compile(r'https?://\\S+|www\\.\\S+')\n",
    "    return url.sub(r'',text)"
   ]
  },
  {
   "cell_type": "code",
   "execution_count": 30,
   "id": "c64c0d0b",
   "metadata": {},
   "outputs": [],
   "source": [
    "#removing punctuations\n",
    "import string\n",
    "remove_punctuations_from_data = [',', '\"', ':', ')', '(','?', '|', ';', \"'\", '$', '&', '/', '[', ']', '>',\n",
    "    '%', '=', '#', '*', '+', '\\\\', '~', '@','·', '_', '{', '}','^', '®', '`',  '<', '›', '″', '′', '“', '”', '–','═',\n",
    "    '：','⋅', '‘','´','-','’','—','.','!']\n",
    "def remove_punctuations(text):\n",
    "    for punctuation in remove_punctuations_from_data:\n",
    "        text = text.replace(punctuation, '')\n",
    "    return text"
   ]
  },
  {
   "cell_type": "code",
   "execution_count": 31,
   "id": "0990e312",
   "metadata": {},
   "outputs": [],
   "source": [
    "#removing html tags\n",
    "def remove_html(text):\n",
    "    html=re.compile(r'<.*?>')\n",
    "    return html.sub(r'',text)"
   ]
  },
  {
   "cell_type": "code",
   "execution_count": 32,
   "id": "15421b80",
   "metadata": {},
   "outputs": [],
   "source": [
    "#removing usernames\n",
    "def remove_username(text):\n",
    "    return re.sub('@[^\\s]+','',text)"
   ]
  },
  {
   "cell_type": "code",
   "execution_count": 33,
   "id": "898a0ecb",
   "metadata": {},
   "outputs": [],
   "source": [
    "#removing emoji's\n",
    "def remove_emoji(text):\n",
    "    emoji_pattern = re.compile(\"[\"\n",
    "                           u\"\\U0001F600-\\U0001F64F\"  # emoticons\n",
    "                           u\"\\U0001F300-\\U0001F5FF\"  # symbols & pictographs\n",
    "                           u\"\\U0001F680-\\U0001F6FF\"  # transport & map symbols\n",
    "                           u\"\\U0001F1E0-\\U0001F1FF\"  # flags (iOS)\n",
    "                           u\"\\U00002702-\\U000027B0\"\n",
    "                           u\"\\U000024C2-\\U0001F251\"\n",
    "                           \"]+\", flags=re.UNICODE)\n",
    "    return emoji_pattern.sub(r'', text)\n"
   ]
  },
  {
   "cell_type": "code",
   "execution_count": 34,
   "id": "ee7e364a",
   "metadata": {},
   "outputs": [],
   "source": [
    "#decorating text\n",
    "def decontraction(text):\n",
    "    text = re.sub(r\"won\\'t\", \" will not\", text)\n",
    "    text = re.sub(r\"won\\'t've\", \" will not have\", text)\n",
    "    text = re.sub(r\"can\\'t\", \" can not\", text)\n",
    "    text = re.sub(r\"don\\'t\", \" do not\", text)\n",
    "    \n",
    "    text = re.sub(r\"can\\'t've\", \" can not have\", text)\n",
    "    text = re.sub(r\"ma\\'am\", \" madam\", text)\n",
    "    text = re.sub(r\"let\\'s\", \" let us\", text)\n",
    "    text = re.sub(r\"ain\\'t\", \" am not\", text)\n",
    "    text = re.sub(r\"shan\\'t\", \" shall not\", text)\n",
    "    text = re.sub(r\"sha\\n't\", \" shall not\", text)\n",
    "    text = re.sub(r\"o\\'clock\", \" of the clock\", text)\n",
    "    text = re.sub(r\"y\\'all\", \" you all\", text)\n",
    "    text = re.sub(r\"n\\'t\", \" not\", text)\n",
    "    text = re.sub(r\"n\\'t've\", \" not have\", text)\n",
    "    text = re.sub(r\"\\'re\", \" are\", text)\n",
    "    text = re.sub(r\"\\'s\", \" is\", text)\n",
    "    text = re.sub(r\"\\'d\", \" would\", text)\n",
    "    text = re.sub(r\"\\'d've\", \" would have\", text)\n",
    "    text = re.sub(r\"\\'ll\", \" will\", text)\n",
    "    text = re.sub(r\"\\'ll've\", \" will have\", text)\n",
    "    text = re.sub(r\"\\'t\", \" not\", text)\n",
    "    text = re.sub(r\"\\'ve\", \" have\", text)\n",
    "    text = re.sub(r\"\\'m\", \" am\", text)\n",
    "    text = re.sub(r\"\\'re\", \" are\", text)\n",
    "    return text  "
   ]
  },
  {
   "cell_type": "code",
   "execution_count": 35,
   "id": "ed8aa43f",
   "metadata": {},
   "outputs": [],
   "source": [
    "#Separate alphanumeric, char, unique character, repeat character\n",
    "\n",
    "def seperate_alphanumeric(text):\n",
    "    words = text\n",
    "    words = re.findall(r\"[^\\W\\d_]+|\\d+\", words)\n",
    "    return \" \".join(words)\n",
    "\n",
    "def cont_rep_char(text):\n",
    "    tchr = text.group(0) \n",
    "    \n",
    "    if len(tchr) > 1:\n",
    "        return tchr[0:2] \n",
    "\n",
    "def unique_char(rep, text):\n",
    "    substitute = re.sub(r'(\\w)\\1+', rep, text)\n",
    "    return substitute\n",
    "\n",
    "def char(text):\n",
    "    substitute = re.sub(r'[^a-zA-Z]',' ',text)\n",
    "    return substitute"
   ]
  },
  {
   "cell_type": "code",
   "execution_count": 36,
   "id": "0710049e",
   "metadata": {},
   "outputs": [],
   "source": [
    "#applying all the functions we defined earlier\n",
    "tweetsData['final_text'] = tweetsData['negativereason'].fillna('') + ' ' + tweetsData['text'] "
   ]
  },
  {
   "cell_type": "code",
   "execution_count": 37,
   "id": "6c043e9b",
   "metadata": {},
   "outputs": [
    {
     "data": {
      "text/plain": [
       "0                                                     said\n",
       "1                  plus added commercials experience tacky\n",
       "2                   today must mean need take another trip\n",
       "3        bad flight really aggressive blast obnoxious e...\n",
       "4                             ca tell really big bad thing\n",
       "                               ...                        \n",
       "14635                   thank got different flight chicago\n",
       "14636    customer service issue leaving minutes late fl...\n",
       "14637            please bring american airlines blackberry\n",
       "14638    customer service issue money change flight ans...\n",
       "14639    ppl need know many seats next flight plz put u...\n",
       "Name: final_text, Length: 14640, dtype: object"
      ]
     },
     "execution_count": 37,
     "metadata": {},
     "output_type": "execute_result"
    }
   ],
   "source": [
    "import re\n",
    "\n",
    "tweets_data['final_text'] = tweets_data['final_text'].apply(lambda x : remove_username(x))\n",
    "tweets_data['final_text'] = tweets_data['final_text'].apply(lambda x : remove_url(x))\n",
    "tweets_data['final_text'] = tweets_data['final_text'].apply(lambda x : remove_emoji(x))\n",
    "tweets_data['final_text'] = tweets_data['final_text'].apply(lambda x : decontraction(x))\n",
    "tweets_data['final_text'] = tweets_data['final_text'].apply(lambda x : seperate_alphanumeric(x))\n",
    "tweets_data['final_text'] = tweets_data['final_text'].apply(lambda x : unique_char(cont_rep_char,x))\n",
    "tweets_data['final_text'] = tweets_data['final_text'].apply(lambda x : char(x))\n",
    "tweets_data['final_text'] = tweets_data['final_text'].apply(lambda x : x.lower())\n",
    "tweets_data['final_text'] = tweets_data['final_text'].apply(lambda x : remove_stopwords(x))\n",
    "\n",
    "tweets_data['final_text']"
   ]
  },
  {
   "cell_type": "code",
   "execution_count": 38,
   "id": "06799a09",
   "metadata": {},
   "outputs": [],
   "source": [
    "X = tweets_data['final_text']\n",
    "y = tweets_data['airline_sentiment']"
   ]
  },
  {
   "cell_type": "code",
   "execution_count": 39,
   "id": "65ab45d3",
   "metadata": {},
   "outputs": [
    {
     "data": {
      "text/plain": [
       "(14640, 10989)"
      ]
     },
     "execution_count": 39,
     "metadata": {},
     "output_type": "execute_result"
    }
   ],
   "source": [
    "#Imbalance Handling\n",
    "#TF-IDF Model - TfidfVectorizer\n",
    "from sklearn.feature_extraction.text import TfidfVectorizer\n",
    "\n",
    "tfid = TfidfVectorizer()\n",
    "X_final =  tfid.fit_transform(X)\n",
    "X_final.todense().shape"
   ]
  },
  {
   "cell_type": "code",
   "execution_count": 40,
   "id": "a4b0a021",
   "metadata": {},
   "outputs": [],
   "source": [
    "from sklearn.naive_bayes import MultinomialNB"
   ]
  },
  {
   "cell_type": "code",
   "execution_count": 42,
   "id": "c1c9528d",
   "metadata": {},
   "outputs": [],
   "source": [
    "#SMOTE\n",
    "from imblearn.over_sampling import SMOTE\n",
    "smote = SMOTE()\n",
    "x_sm,y_sm = smote.fit_resample(X_final,y)"
   ]
  },
  {
   "cell_type": "code",
   "execution_count": 45,
   "id": "d9fd68ee",
   "metadata": {},
   "outputs": [],
   "source": [
    "# Split Data into train & test \n",
    "X_train , X_test , y_train , y_test = train_test_split(x_sm , y_sm , test_size=0.2)"
   ]
  },
  {
   "cell_type": "code",
   "execution_count": 46,
   "id": "93927e99",
   "metadata": {},
   "outputs": [
    {
     "data": {
      "text/plain": [
       "MultinomialNB()"
      ]
     },
     "execution_count": 46,
     "metadata": {},
     "output_type": "execute_result"
    }
   ],
   "source": [
    "#Naive Bayes - tweets\n",
    "nb = MultinomialNB()\n",
    "nb.fit(X_train,y_train)"
   ]
  },
  {
   "cell_type": "code",
   "execution_count": 47,
   "id": "2b4abe35",
   "metadata": {},
   "outputs": [
    {
     "data": {
      "text/plain": [
       "MultinomialNB()"
      ]
     },
     "execution_count": 47,
     "metadata": {},
     "output_type": "execute_result"
    }
   ],
   "source": [
    "MultinomialNB()"
   ]
  },
  {
   "cell_type": "code",
   "execution_count": 48,
   "id": "c1fa884f",
   "metadata": {},
   "outputs": [],
   "source": [
    "nb_prediction =  nb.predict(X_test)"
   ]
  },
  {
   "cell_type": "code",
   "execution_count": 49,
   "id": "3b89c9fa",
   "metadata": {},
   "outputs": [],
   "source": [
    "from sklearn.metrics import classification_report , confusion_matrix , accuracy_score # Performance Metrics "
   ]
  },
  {
   "cell_type": "code",
   "execution_count": 50,
   "id": "d5a1ed4a",
   "metadata": {},
   "outputs": [
    {
     "data": {
      "text/plain": [
       "0.8641728708915926"
      ]
     },
     "execution_count": 50,
     "metadata": {},
     "output_type": "execute_result"
    }
   ],
   "source": [
    "accuracy_score(nb_prediction,y_test)"
   ]
  },
  {
   "cell_type": "code",
   "execution_count": 51,
   "id": "a2452adf",
   "metadata": {},
   "outputs": [],
   "source": [
    " from sklearn.model_selection import cross_val_score"
   ]
  },
  {
   "cell_type": "code",
   "execution_count": 52,
   "id": "3bf40da3",
   "metadata": {},
   "outputs": [
    {
     "name": "stderr",
     "output_type": "stream",
     "text": [
      "C:\\Users\\deven\\AppData\\Local\\Programs\\Python\\Python310\\lib\\site-packages\\sklearn\\utils\\validation.py:593: FutureWarning: np.matrix usage is deprecated in 1.0 and will raise a TypeError in 1.2. Please convert to a numpy array with np.asarray. For more information see: https://numpy.org/doc/stable/reference/generated/numpy.matrix.html\n",
      "  warnings.warn(\n",
      "C:\\Users\\deven\\AppData\\Local\\Programs\\Python\\Python310\\lib\\site-packages\\sklearn\\utils\\validation.py:593: FutureWarning: np.matrix usage is deprecated in 1.0 and will raise a TypeError in 1.2. Please convert to a numpy array with np.asarray. For more information see: https://numpy.org/doc/stable/reference/generated/numpy.matrix.html\n",
      "  warnings.warn(\n",
      "C:\\Users\\deven\\AppData\\Local\\Programs\\Python\\Python310\\lib\\site-packages\\sklearn\\utils\\validation.py:593: FutureWarning: np.matrix usage is deprecated in 1.0 and will raise a TypeError in 1.2. Please convert to a numpy array with np.asarray. For more information see: https://numpy.org/doc/stable/reference/generated/numpy.matrix.html\n",
      "  warnings.warn(\n",
      "C:\\Users\\deven\\AppData\\Local\\Programs\\Python\\Python310\\lib\\site-packages\\sklearn\\utils\\validation.py:593: FutureWarning: np.matrix usage is deprecated in 1.0 and will raise a TypeError in 1.2. Please convert to a numpy array with np.asarray. For more information see: https://numpy.org/doc/stable/reference/generated/numpy.matrix.html\n",
      "  warnings.warn(\n",
      "C:\\Users\\deven\\AppData\\Local\\Programs\\Python\\Python310\\lib\\site-packages\\sklearn\\utils\\validation.py:593: FutureWarning: np.matrix usage is deprecated in 1.0 and will raise a TypeError in 1.2. Please convert to a numpy array with np.asarray. For more information see: https://numpy.org/doc/stable/reference/generated/numpy.matrix.html\n",
      "  warnings.warn(\n",
      "C:\\Users\\deven\\AppData\\Local\\Programs\\Python\\Python310\\lib\\site-packages\\sklearn\\utils\\validation.py:593: FutureWarning: np.matrix usage is deprecated in 1.0 and will raise a TypeError in 1.2. Please convert to a numpy array with np.asarray. For more information see: https://numpy.org/doc/stable/reference/generated/numpy.matrix.html\n",
      "  warnings.warn(\n",
      "C:\\Users\\deven\\AppData\\Local\\Programs\\Python\\Python310\\lib\\site-packages\\sklearn\\utils\\validation.py:593: FutureWarning: np.matrix usage is deprecated in 1.0 and will raise a TypeError in 1.2. Please convert to a numpy array with np.asarray. For more information see: https://numpy.org/doc/stable/reference/generated/numpy.matrix.html\n",
      "  warnings.warn(\n",
      "C:\\Users\\deven\\AppData\\Local\\Programs\\Python\\Python310\\lib\\site-packages\\sklearn\\utils\\validation.py:593: FutureWarning: np.matrix usage is deprecated in 1.0 and will raise a TypeError in 1.2. Please convert to a numpy array with np.asarray. For more information see: https://numpy.org/doc/stable/reference/generated/numpy.matrix.html\n",
      "  warnings.warn(\n"
     ]
    },
    {
     "data": {
      "text/plain": [
       "array([0.84764845, 0.85309606, 0.84764845, 0.84544134])"
      ]
     },
     "execution_count": 52,
     "metadata": {},
     "output_type": "execute_result"
    }
   ],
   "source": [
    "multi_fold_Val = cross_val_score(nb, X_train.todense(), y_train, cv = 4)\n",
    "multi_fold_Val"
   ]
  },
  {
   "cell_type": "code",
   "execution_count": 54,
   "id": "733d333b",
   "metadata": {},
   "outputs": [],
   "source": [
    "#Working on the given covid Data - Cleaning\n",
    "arrCovidData = []\n",
    "for i in open('HW 1.json', 'r', encoding='UTF8'):\n",
    "    arrCovidData.append(json.loads(i))"
   ]
  },
  {
   "cell_type": "code",
   "execution_count": 55,
   "id": "f26bafba",
   "metadata": {},
   "outputs": [],
   "source": [
    "normCovidData = pd.json_normalize(arrCovidData)"
   ]
  },
  {
   "cell_type": "code",
   "execution_count": 56,
   "id": "766288f6",
   "metadata": {},
   "outputs": [
    {
     "data": {
      "text/html": [
       "<div>\n",
       "<style scoped>\n",
       "    .dataframe tbody tr th:only-of-type {\n",
       "        vertical-align: middle;\n",
       "    }\n",
       "\n",
       "    .dataframe tbody tr th {\n",
       "        vertical-align: top;\n",
       "    }\n",
       "\n",
       "    .dataframe thead th {\n",
       "        text-align: right;\n",
       "    }\n",
       "</style>\n",
       "<table border=\"1\" class=\"dataframe\">\n",
       "  <thead>\n",
       "    <tr style=\"text-align: right;\">\n",
       "      <th></th>\n",
       "      <th>facebook likes</th>\n",
       "      <th>shares</th>\n",
       "      <th>comments</th>\n",
       "      <th>title</th>\n",
       "      <th>published</th>\n",
       "      <th>replies_count</th>\n",
       "      <th>author</th>\n",
       "      <th>url</th>\n",
       "      <th>country</th>\n",
       "      <th>text</th>\n",
       "    </tr>\n",
       "  </thead>\n",
       "  <tbody>\n",
       "    <tr>\n",
       "      <th>0</th>\n",
       "      <td>0</td>\n",
       "      <td>0</td>\n",
       "      <td>0</td>\n",
       "      <td>Karnataka: Helplines, isolation wards set up f...</td>\n",
       "      <td>2020-01-31T11:46:00.000+02:00</td>\n",
       "      <td>0</td>\n",
       "      <td>Udayavani</td>\n",
       "      <td>https://m.dailyhunt.in/news/india/english/uday...</td>\n",
       "      <td>IN</td>\n",
       "      <td>Bengaluru: Isolation wards in hospitals across...</td>\n",
       "    </tr>\n",
       "    <tr>\n",
       "      <th>1</th>\n",
       "      <td>0</td>\n",
       "      <td>0</td>\n",
       "      <td>0</td>\n",
       "      <td>Health dept. monitoring 24 people for possible...</td>\n",
       "      <td>2020-01-28T02:00:00.000+02:00</td>\n",
       "      <td>0</td>\n",
       "      <td></td>\n",
       "      <td>http://cnnphilippines.com/videos/2020/1/28/Hea...</td>\n",
       "      <td>US</td>\n",
       "      <td>The government making sure that the new corona...</td>\n",
       "    </tr>\n",
       "    <tr>\n",
       "      <th>2</th>\n",
       "      <td>0</td>\n",
       "      <td>0</td>\n",
       "      <td>0</td>\n",
       "      <td></td>\n",
       "      <td>2020-01-31T06:38:00.000+02:00</td>\n",
       "      <td>266</td>\n",
       "      <td>jmccorm</td>\n",
       "      <td>https://news.ycombinator.com/item?id=22194798#...</td>\n",
       "      <td>US</td>\n",
       "      <td>Apart from more people falling sick (as bad as...</td>\n",
       "    </tr>\n",
       "    <tr>\n",
       "      <th>3</th>\n",
       "      <td>0</td>\n",
       "      <td>0</td>\n",
       "      <td>0</td>\n",
       "      <td>Asian Markets Mostly Higher</td>\n",
       "      <td>2020-01-31T05:53:00.000+02:00</td>\n",
       "      <td>0</td>\n",
       "      <td>rttnews.com</td>\n",
       "      <td>https://www.rttnews.com/3064615/asian-markets-...</td>\n",
       "      <td>US</td>\n",
       "      <td>Asian stock markets are mostly higher on Frida...</td>\n",
       "    </tr>\n",
       "    <tr>\n",
       "      <th>4</th>\n",
       "      <td>0</td>\n",
       "      <td>0</td>\n",
       "      <td>0</td>\n",
       "      <td>Tesla soars as bearish analysts left with litt...</td>\n",
       "      <td>2020-01-30T02:00:00.000+02:00</td>\n",
       "      <td>0</td>\n",
       "      <td>Joe Easton</td>\n",
       "      <td>http://www.bnnbloomberg.ca/tesla-soars-as-bear...</td>\n",
       "      <td>CA</td>\n",
       "      <td>Cash flow was also “very strong,” at more than...</td>\n",
       "    </tr>\n",
       "  </tbody>\n",
       "</table>\n",
       "</div>"
      ],
      "text/plain": [
       "   facebook likes  shares  comments  \\\n",
       "0               0       0         0   \n",
       "1               0       0         0   \n",
       "2               0       0         0   \n",
       "3               0       0         0   \n",
       "4               0       0         0   \n",
       "\n",
       "                                               title  \\\n",
       "0  Karnataka: Helplines, isolation wards set up f...   \n",
       "1  Health dept. monitoring 24 people for possible...   \n",
       "2                                                      \n",
       "3                        Asian Markets Mostly Higher   \n",
       "4  Tesla soars as bearish analysts left with litt...   \n",
       "\n",
       "                       published  replies_count       author  \\\n",
       "0  2020-01-31T11:46:00.000+02:00              0    Udayavani   \n",
       "1  2020-01-28T02:00:00.000+02:00              0                \n",
       "2  2020-01-31T06:38:00.000+02:00            266      jmccorm   \n",
       "3  2020-01-31T05:53:00.000+02:00              0  rttnews.com   \n",
       "4  2020-01-30T02:00:00.000+02:00              0   Joe Easton   \n",
       "\n",
       "                                                 url country  \\\n",
       "0  https://m.dailyhunt.in/news/india/english/uday...      IN   \n",
       "1  http://cnnphilippines.com/videos/2020/1/28/Hea...      US   \n",
       "2  https://news.ycombinator.com/item?id=22194798#...      US   \n",
       "3  https://www.rttnews.com/3064615/asian-markets-...      US   \n",
       "4  http://www.bnnbloomberg.ca/tesla-soars-as-bear...      CA   \n",
       "\n",
       "                                                text  \n",
       "0  Bengaluru: Isolation wards in hospitals across...  \n",
       "1  The government making sure that the new corona...  \n",
       "2  Apart from more people falling sick (as bad as...  \n",
       "3  Asian stock markets are mostly higher on Frida...  \n",
       "4  Cash flow was also “very strong,” at more than...  "
      ]
     },
     "execution_count": 56,
     "metadata": {},
     "output_type": "execute_result"
    }
   ],
   "source": [
    "columns = [\"thread.social.facebook.likes\",\"thread.social.facebook.shares\",\"thread.social.facebook.comments\",\"title\",\"published\",\"thread.replies_count\",\"author\",\"url\",\"thread.country\",\"text\"]\n",
    "\n",
    "arrCovidData = normCovidData[columns]\n",
    "\n",
    "CovidData = arrCovidData.rename(columns={\"thread.social.facebook.likes\":\"facebook likes\",\"thread.social.facebook.shares\":\"shares\",\"thread.social.facebook.comments\":\"comments\",\"thread.replies_count\":\"replies_count\",\"thread.country\":\"country\"})\n",
    "CovidData.head()"
   ]
  },
  {
   "cell_type": "code",
   "execution_count": 57,
   "id": "14de8084",
   "metadata": {},
   "outputs": [],
   "source": [
    "csvCovidData = arrCovidData.to_csv('covidData.csv', index=None)\n",
    "csvCovidData"
   ]
  },
  {
   "cell_type": "code",
   "execution_count": 58,
   "id": "3b44c7c0",
   "metadata": {},
   "outputs": [
    {
     "data": {
      "text/plain": [
       "Index(['thread.social.facebook.likes', 'thread.social.facebook.shares',\n",
       "       'thread.social.facebook.comments', 'title', 'published',\n",
       "       'thread.replies_count', 'author', 'url', 'thread.country', 'text'],\n",
       "      dtype='object')"
      ]
     },
     "execution_count": 58,
     "metadata": {},
     "output_type": "execute_result"
    }
   ],
   "source": [
    "csvData = pd.read_csv(\"covidData.csv\")\n",
    "csvData.columns"
   ]
  },
  {
   "cell_type": "code",
   "execution_count": 59,
   "id": "a9898a21",
   "metadata": {},
   "outputs": [
    {
     "data": {
      "text/html": [
       "<div>\n",
       "<style scoped>\n",
       "    .dataframe tbody tr th:only-of-type {\n",
       "        vertical-align: middle;\n",
       "    }\n",
       "\n",
       "    .dataframe tbody tr th {\n",
       "        vertical-align: top;\n",
       "    }\n",
       "\n",
       "    .dataframe thead th {\n",
       "        text-align: right;\n",
       "    }\n",
       "</style>\n",
       "<table border=\"1\" class=\"dataframe\">\n",
       "  <thead>\n",
       "    <tr style=\"text-align: right;\">\n",
       "      <th></th>\n",
       "      <th>facebook likes</th>\n",
       "      <th>shares</th>\n",
       "      <th>comments</th>\n",
       "      <th>title</th>\n",
       "      <th>published</th>\n",
       "      <th>replies_count</th>\n",
       "      <th>author</th>\n",
       "      <th>url</th>\n",
       "      <th>country</th>\n",
       "      <th>text</th>\n",
       "    </tr>\n",
       "  </thead>\n",
       "  <tbody>\n",
       "    <tr>\n",
       "      <th>0</th>\n",
       "      <td>0</td>\n",
       "      <td>0</td>\n",
       "      <td>0</td>\n",
       "      <td>Karnataka: Helplines, isolation wards set up f...</td>\n",
       "      <td>2020-01-31T11:46:00.000+02:00</td>\n",
       "      <td>0</td>\n",
       "      <td>Udayavani</td>\n",
       "      <td>https://m.dailyhunt.in/news/india/english/uday...</td>\n",
       "      <td>IN</td>\n",
       "      <td>Bengaluru: Isolation wards in hospitals across...</td>\n",
       "    </tr>\n",
       "    <tr>\n",
       "      <th>1</th>\n",
       "      <td>0</td>\n",
       "      <td>0</td>\n",
       "      <td>0</td>\n",
       "      <td>Health dept. monitoring 24 people for possible...</td>\n",
       "      <td>2020-01-28T02:00:00.000+02:00</td>\n",
       "      <td>0</td>\n",
       "      <td>NaN</td>\n",
       "      <td>http://cnnphilippines.com/videos/2020/1/28/Hea...</td>\n",
       "      <td>US</td>\n",
       "      <td>The government making sure that the new corona...</td>\n",
       "    </tr>\n",
       "    <tr>\n",
       "      <th>2</th>\n",
       "      <td>0</td>\n",
       "      <td>0</td>\n",
       "      <td>0</td>\n",
       "      <td>NaN</td>\n",
       "      <td>2020-01-31T06:38:00.000+02:00</td>\n",
       "      <td>266</td>\n",
       "      <td>jmccorm</td>\n",
       "      <td>https://news.ycombinator.com/item?id=22194798#...</td>\n",
       "      <td>US</td>\n",
       "      <td>Apart from more people falling sick (as bad as...</td>\n",
       "    </tr>\n",
       "    <tr>\n",
       "      <th>3</th>\n",
       "      <td>0</td>\n",
       "      <td>0</td>\n",
       "      <td>0</td>\n",
       "      <td>Asian Markets Mostly Higher</td>\n",
       "      <td>2020-01-31T05:53:00.000+02:00</td>\n",
       "      <td>0</td>\n",
       "      <td>rttnews.com</td>\n",
       "      <td>https://www.rttnews.com/3064615/asian-markets-...</td>\n",
       "      <td>US</td>\n",
       "      <td>Asian stock markets are mostly higher on Frida...</td>\n",
       "    </tr>\n",
       "    <tr>\n",
       "      <th>4</th>\n",
       "      <td>0</td>\n",
       "      <td>0</td>\n",
       "      <td>0</td>\n",
       "      <td>Tesla soars as bearish analysts left with litt...</td>\n",
       "      <td>2020-01-30T02:00:00.000+02:00</td>\n",
       "      <td>0</td>\n",
       "      <td>Joe Easton</td>\n",
       "      <td>http://www.bnnbloomberg.ca/tesla-soars-as-bear...</td>\n",
       "      <td>CA</td>\n",
       "      <td>Cash flow was also “very strong,” at more than...</td>\n",
       "    </tr>\n",
       "  </tbody>\n",
       "</table>\n",
       "</div>"
      ],
      "text/plain": [
       "   facebook likes  shares  comments  \\\n",
       "0               0       0         0   \n",
       "1               0       0         0   \n",
       "2               0       0         0   \n",
       "3               0       0         0   \n",
       "4               0       0         0   \n",
       "\n",
       "                                               title  \\\n",
       "0  Karnataka: Helplines, isolation wards set up f...   \n",
       "1  Health dept. monitoring 24 people for possible...   \n",
       "2                                                NaN   \n",
       "3                        Asian Markets Mostly Higher   \n",
       "4  Tesla soars as bearish analysts left with litt...   \n",
       "\n",
       "                       published  replies_count       author  \\\n",
       "0  2020-01-31T11:46:00.000+02:00              0    Udayavani   \n",
       "1  2020-01-28T02:00:00.000+02:00              0          NaN   \n",
       "2  2020-01-31T06:38:00.000+02:00            266      jmccorm   \n",
       "3  2020-01-31T05:53:00.000+02:00              0  rttnews.com   \n",
       "4  2020-01-30T02:00:00.000+02:00              0   Joe Easton   \n",
       "\n",
       "                                                 url country  \\\n",
       "0  https://m.dailyhunt.in/news/india/english/uday...      IN   \n",
       "1  http://cnnphilippines.com/videos/2020/1/28/Hea...      US   \n",
       "2  https://news.ycombinator.com/item?id=22194798#...      US   \n",
       "3  https://www.rttnews.com/3064615/asian-markets-...      US   \n",
       "4  http://www.bnnbloomberg.ca/tesla-soars-as-bear...      CA   \n",
       "\n",
       "                                                text  \n",
       "0  Bengaluru: Isolation wards in hospitals across...  \n",
       "1  The government making sure that the new corona...  \n",
       "2  Apart from more people falling sick (as bad as...  \n",
       "3  Asian stock markets are mostly higher on Frida...  \n",
       "4  Cash flow was also “very strong,” at more than...  "
      ]
     },
     "execution_count": 59,
     "metadata": {},
     "output_type": "execute_result"
    }
   ],
   "source": [
    "csvUpdatedData = csvData.rename(columns={\"thread.social.facebook.likes\":\"facebook likes\",\"thread.social.facebook.shares\":\"shares\",\"thread.social.facebook.comments\":\"comments\",\"thread.replies_count\":\"replies_count\",\"thread.country\":\"country\"})\n",
    "csvUpdatedData.head()"
   ]
  },
  {
   "cell_type": "code",
   "execution_count": 60,
   "id": "5ed79989",
   "metadata": {},
   "outputs": [
    {
     "data": {
      "text/plain": [
       "0        Bengaluru: Isolation wards in hospitals across...\n",
       "1        The government making sure that the new corona...\n",
       "2        Apart from more people falling sick (as bad as...\n",
       "3        Asian stock markets are mostly higher on Frida...\n",
       "4        Cash flow was also “very strong,” at more than...\n",
       "                               ...                        \n",
       "10951    Home > News Hub > AFTA CEO Update - General ad...\n",
       "10952    A test carried out on a passenger from Macau a...\n",
       "10953    research (133) The Bow Group calls for an Emer...\n",
       "10954    Ethiopia coronavirus suspects test negative Da...\n",
       "10955    robert maseka Namibian students studying in Ch...\n",
       "Name: text, Length: 10956, dtype: object"
      ]
     },
     "execution_count": 60,
     "metadata": {},
     "output_type": "execute_result"
    }
   ],
   "source": [
    "#test = csvUpdatedData['text'].loc[:1000]\n",
    "test = csvUpdatedData['text']\n",
    "test"
   ]
  },
  {
   "cell_type": "code",
   "execution_count": 62,
   "id": "205edd5d",
   "metadata": {},
   "outputs": [
    {
     "name": "stdout",
     "output_type": "stream",
     "text": [
      "Removed Usernames\n",
      "Removed URLs\n",
      "Removed Emojii\n",
      "Decontraction\n",
      "Seperate alphanumeric\n",
      "Unique char\n",
      "Char\n",
      "Made all lowercase\n",
      "Removed Stop words\n"
     ]
    },
    {
     "data": {
      "text/plain": [
       "0        bengaluru isolation wards hospitals across kar...\n",
       "1        government making sure new coronavirus make wa...\n",
       "2        apart people falling sick bad fundamental conc...\n",
       "3        asian stock markets mostly higher friday follo...\n",
       "4        cash flow also strong us billion fourth quarte...\n",
       "                               ...                        \n",
       "10951    home news hub afta ceo update general advice t...\n",
       "10952    test carried passenger macau aboard cruise shi...\n",
       "10953    research bow group calls emergency public heal...\n",
       "10954    ethiopia coronavirus suspects test negative da...\n",
       "10955    robert maseka namibian students studying china...\n",
       "Name: text, Length: 10956, dtype: object"
      ]
     },
     "execution_count": 62,
     "metadata": {},
     "output_type": "execute_result"
    }
   ],
   "source": [
    "test = test.apply(lambda x : remove_username(x))\n",
    "print(\"Removed Usernames\")\n",
    "test = test.apply(lambda x : remove_url(x))\n",
    "print(\"Removed URLs\")\n",
    "test = test.apply(lambda x : remove_emoji(x))\n",
    "print(\"Removed Emojii\")\n",
    "test = test.apply(lambda x : decontraction(x))\n",
    "print(\"Decontraction\")\n",
    "test = test.apply(lambda x : seperate_alphanumeric(x))\n",
    "print(\"Seperate alphanumeric\")\n",
    "test = test.apply(lambda x : unique_char(cont_rep_char,x))\n",
    "print(\"Unique char\")\n",
    "test = test.apply(lambda x : char(x))\n",
    "print(\"Char\")\n",
    "test = test.apply(lambda x : x.lower())\n",
    "print(\"Made all lowercase\")\n",
    "test = test.apply(lambda x : remove_stopwords(x))\n",
    "print(\"Removed Stop words\")\n",
    "test"
   ]
  },
  {
   "cell_type": "code",
   "execution_count": 63,
   "id": "1518e757",
   "metadata": {},
   "outputs": [],
   "source": [
    "#Naive Bayes on covid data - text column\n",
    "text_data = tfid.transform(test)"
   ]
  },
  {
   "cell_type": "code",
   "execution_count": 64,
   "id": "7e982024",
   "metadata": {},
   "outputs": [
    {
     "data": {
      "text/plain": [
       "(10956, 10989)"
      ]
     },
     "execution_count": 64,
     "metadata": {},
     "output_type": "execute_result"
    }
   ],
   "source": [
    "text_data.todense().shape"
   ]
  },
  {
   "cell_type": "code",
   "execution_count": 65,
   "id": "19ec9931",
   "metadata": {},
   "outputs": [
    {
     "name": "stderr",
     "output_type": "stream",
     "text": [
      "C:\\Users\\deven\\AppData\\Local\\Programs\\Python\\Python310\\lib\\site-packages\\sklearn\\utils\\validation.py:593: FutureWarning: np.matrix usage is deprecated in 1.0 and will raise a TypeError in 1.2. Please convert to a numpy array with np.asarray. For more information see: https://numpy.org/doc/stable/reference/generated/numpy.matrix.html\n",
      "  warnings.warn(\n"
     ]
    },
    {
     "data": {
      "text/plain": [
       "array([1, 0, 0, ..., 1, 1, 1], dtype=int64)"
      ]
     },
     "execution_count": 65,
     "metadata": {},
     "output_type": "execute_result"
    }
   ],
   "source": [
    "nb_prediction =  nb.predict(text_data.todense())\n",
    "nb_prediction"
   ]
  },
  {
   "cell_type": "code",
   "execution_count": 66,
   "id": "aa43de4d",
   "metadata": {},
   "outputs": [
    {
     "data": {
      "text/plain": [
       "{0: 1084, 1: 9684, 2: 188}"
      ]
     },
     "execution_count": 66,
     "metadata": {},
     "output_type": "execute_result"
    }
   ],
   "source": [
    "a = nb_prediction\n",
    "unique, counts = np.unique(a, return_counts=True)\n",
    "dict(zip(unique, counts))"
   ]
  },
  {
   "cell_type": "code",
   "execution_count": 67,
   "id": "942dfc09",
   "metadata": {},
   "outputs": [
    {
     "data": {
      "text/plain": [
       "RandomForestClassifier()"
      ]
     },
     "execution_count": 67,
     "metadata": {},
     "output_type": "execute_result"
    }
   ],
   "source": [
    "#random forests - tweets\n",
    "from sklearn.ensemble import RandomForestClassifier \n",
    "rf = RandomForestClassifier()\n",
    "rf.fit(X_train,y_train)"
   ]
  },
  {
   "cell_type": "code",
   "execution_count": 68,
   "id": "72ba9318",
   "metadata": {},
   "outputs": [],
   "source": [
    "rf_prediction =  rf.predict(X_test)"
   ]
  },
  {
   "cell_type": "code",
   "execution_count": 69,
   "id": "51ecb7f9",
   "metadata": {},
   "outputs": [
    {
     "data": {
      "text/plain": [
       "0.9587797348828764"
      ]
     },
     "execution_count": 69,
     "metadata": {},
     "output_type": "execute_result"
    }
   ],
   "source": [
    "accuracy_score(rf_prediction,y_test)"
   ]
  },
  {
   "cell_type": "code",
   "execution_count": 70,
   "id": "1cde7f4b",
   "metadata": {},
   "outputs": [
    {
     "name": "stdout",
     "output_type": "stream",
     "text": [
      "Classification Report for the best accuracy classifier in TFIDFVectorizer:\n",
      "----------------------\n",
      "               precision    recall  f1-score   support\n",
      "\n",
      "           0       0.98      0.99      0.99      1846\n",
      "           1       0.93      0.95      0.94      1786\n",
      "           2       0.96      0.93      0.95      1875\n",
      "\n",
      "    accuracy                           0.96      5507\n",
      "   macro avg       0.96      0.96      0.96      5507\n",
      "weighted avg       0.96      0.96      0.96      5507\n",
      "\n"
     ]
    }
   ],
   "source": [
    "#Classification report\n",
    "cr_tf = classification_report(y_test, rf_prediction)\n",
    "print(\"Classification Report for the best accuracy classifier in TFIDFVectorizer:\\n----------------------\\n\", cr_tf)"
   ]
  },
  {
   "cell_type": "code",
   "execution_count": 71,
   "id": "da7cdda4",
   "metadata": {},
   "outputs": [
    {
     "data": {
      "text/plain": [
       "array([0.94788451, 0.94298166, 0.94915562, 0.94551398])"
      ]
     },
     "execution_count": 71,
     "metadata": {},
     "output_type": "execute_result"
    }
   ],
   "source": [
    "#Multi fold cross validation\n",
    "multi_fold_Val_1 = cross_val_score(rf, X_train, y_train, cv = 4)\n",
    "multi_fold_Val_1"
   ]
  },
  {
   "cell_type": "code",
   "execution_count": 72,
   "id": "c26cc8aa",
   "metadata": {},
   "outputs": [],
   "source": [
    "#Random forest  - text column\n",
    "text_data1 = tfid.transform(test)"
   ]
  },
  {
   "cell_type": "code",
   "execution_count": 73,
   "id": "85573e2e",
   "metadata": {},
   "outputs": [
    {
     "data": {
      "text/plain": [
       "(10956, 10989)"
      ]
     },
     "execution_count": 73,
     "metadata": {},
     "output_type": "execute_result"
    }
   ],
   "source": [
    "text_data1.todense().shape"
   ]
  },
  {
   "cell_type": "code",
   "execution_count": 74,
   "id": "a589f8a7",
   "metadata": {},
   "outputs": [
    {
     "name": "stderr",
     "output_type": "stream",
     "text": [
      "C:\\Users\\deven\\AppData\\Local\\Programs\\Python\\Python310\\lib\\site-packages\\sklearn\\utils\\validation.py:593: FutureWarning: np.matrix usage is deprecated in 1.0 and will raise a TypeError in 1.2. Please convert to a numpy array with np.asarray. For more information see: https://numpy.org/doc/stable/reference/generated/numpy.matrix.html\n",
      "  warnings.warn(\n"
     ]
    },
    {
     "data": {
      "text/plain": [
       "10956"
      ]
     },
     "execution_count": 74,
     "metadata": {},
     "output_type": "execute_result"
    }
   ],
   "source": [
    "rf_prediction =  rf.predict(text_data1.todense())\n",
    "len(rf_prediction)"
   ]
  },
  {
   "cell_type": "code",
   "execution_count": 75,
   "id": "4d61584a",
   "metadata": {},
   "outputs": [
    {
     "data": {
      "text/plain": [
       "{0: 9, 1: 6553, 2: 4394}"
      ]
     },
     "execution_count": 75,
     "metadata": {},
     "output_type": "execute_result"
    }
   ],
   "source": [
    "b = rf_prediction\n",
    "unique, counts = np.unique(b, return_counts=True)\n",
    "dict(zip(unique, counts))"
   ]
  },
  {
   "cell_type": "code",
   "execution_count": 76,
   "id": "3228de5c",
   "metadata": {},
   "outputs": [],
   "source": [
    "#Support Vector machine - tweets\n",
    "from sklearn.svm import SVC"
   ]
  },
  {
   "cell_type": "code",
   "execution_count": 77,
   "id": "05068196",
   "metadata": {},
   "outputs": [
    {
     "data": {
      "text/plain": [
       "SVC()"
      ]
     },
     "execution_count": 77,
     "metadata": {},
     "output_type": "execute_result"
    }
   ],
   "source": [
    "svm = SVC()\n",
    "svm.fit(X_train,y_train)"
   ]
  },
  {
   "cell_type": "code",
   "execution_count": 78,
   "id": "78de71fe",
   "metadata": {},
   "outputs": [],
   "source": [
    "svm_prediction =  svm.predict(X_test)"
   ]
  },
  {
   "cell_type": "code",
   "execution_count": 79,
   "id": "63e177b3",
   "metadata": {},
   "outputs": [
    {
     "data": {
      "text/plain": [
       "0.9442527692028327"
      ]
     },
     "execution_count": 79,
     "metadata": {},
     "output_type": "execute_result"
    }
   ],
   "source": [
    "accuracy_score(svm_prediction,y_test)"
   ]
  },
  {
   "cell_type": "code",
   "execution_count": 80,
   "id": "d897dbf7",
   "metadata": {},
   "outputs": [
    {
     "data": {
      "text/plain": [
       "array([0.93426548, 0.92445978, 0.93390231, 0.93316382])"
      ]
     },
     "execution_count": 80,
     "metadata": {},
     "output_type": "execute_result"
    }
   ],
   "source": [
    "# Multi fold cross validation \n",
    "multi_fold_Val_2 = cross_val_score(svm, X_train, y_train, cv = 4)\n",
    "multi_fold_Val_2"
   ]
  },
  {
   "cell_type": "code",
   "execution_count": 81,
   "id": "1275ccea",
   "metadata": {},
   "outputs": [],
   "source": [
    "#SVC on covid data - text column\n",
    "text_data2 = tfid.transform(test)"
   ]
  },
  {
   "cell_type": "code",
   "execution_count": 82,
   "id": "fa1568ae",
   "metadata": {},
   "outputs": [
    {
     "data": {
      "text/plain": [
       "(10956, 10989)"
      ]
     },
     "execution_count": 82,
     "metadata": {},
     "output_type": "execute_result"
    }
   ],
   "source": [
    "text_data2.todense().shape"
   ]
  },
  {
   "cell_type": "code",
   "execution_count": 83,
   "id": "760194d5",
   "metadata": {},
   "outputs": [],
   "source": [
    "svm_prediction =  svm.predict(text_data2)"
   ]
  },
  {
   "cell_type": "code",
   "execution_count": 84,
   "id": "4e7449da",
   "metadata": {},
   "outputs": [
    {
     "data": {
      "text/plain": [
       "{0: 366, 1: 10286, 2: 304}"
      ]
     },
     "execution_count": 84,
     "metadata": {},
     "output_type": "execute_result"
    }
   ],
   "source": [
    "c = svm_prediction\n",
    "unique, counts = np.unique(c, return_counts=True)\n",
    "dict(zip(unique, counts))"
   ]
  },
  {
   "cell_type": "code",
   "execution_count": 85,
   "id": "1cc327e3",
   "metadata": {},
   "outputs": [
    {
     "data": {
      "text/plain": [
       "(14640, 10989)"
      ]
     },
     "execution_count": 85,
     "metadata": {},
     "output_type": "execute_result"
    }
   ],
   "source": [
    "#Count Vectorizer - Bag Of Words\n",
    "from sklearn.feature_extraction.text import CountVectorizer\n",
    "\n",
    "cv = CountVectorizer()\n",
    "X_final_cv =  cv.fit_transform(X)\n",
    "X_final_cv.todense().shape"
   ]
  },
  {
   "cell_type": "code",
   "execution_count": 86,
   "id": "f4e08a35",
   "metadata": {},
   "outputs": [],
   "source": [
    "smote_cv = SMOTE()\n",
    "x_sm_cv,y_sm_cv = smote.fit_resample(X_final_cv,y)"
   ]
  },
  {
   "cell_type": "code",
   "execution_count": 87,
   "id": "febc6974",
   "metadata": {},
   "outputs": [],
   "source": [
    "X_train_cv , x_test_cv , Y_train_cv , y_test_cv = train_test_split(x_sm_cv , y_sm_cv , test_size=0.2)"
   ]
  },
  {
   "cell_type": "code",
   "execution_count": 88,
   "id": "f616f5a1",
   "metadata": {},
   "outputs": [
    {
     "data": {
      "text/plain": [
       "MultinomialNB()"
      ]
     },
     "execution_count": 88,
     "metadata": {},
     "output_type": "execute_result"
    }
   ],
   "source": [
    "#Naive Bayes - tweets\n",
    "nb_cv = MultinomialNB()\n",
    "nb_cv.fit(X_train_cv,Y_train_cv)"
   ]
  },
  {
   "cell_type": "code",
   "execution_count": 89,
   "id": "aff5ad00",
   "metadata": {},
   "outputs": [],
   "source": [
    "nb_cv_prediction =  nb_cv.predict(x_test_cv)"
   ]
  },
  {
   "cell_type": "code",
   "execution_count": 90,
   "id": "f97d52f4",
   "metadata": {},
   "outputs": [
    {
     "data": {
      "text/plain": [
       "0.7532231705102597"
      ]
     },
     "execution_count": 90,
     "metadata": {},
     "output_type": "execute_result"
    }
   ],
   "source": [
    "accuracy_score(nb_cv_prediction,y_test_cv)"
   ]
  },
  {
   "cell_type": "code",
   "execution_count": 91,
   "id": "7b9bb640",
   "metadata": {},
   "outputs": [
    {
     "data": {
      "text/plain": [
       "array([0.75286   , 0.74759397, 0.75631015, 0.74337087])"
      ]
     },
     "execution_count": 91,
     "metadata": {},
     "output_type": "execute_result"
    }
   ],
   "source": [
    "multi_fold_Val_cv = cross_val_score(nb_cv, X_train_cv, Y_train_cv, cv = 4)\n",
    "multi_fold_Val_cv"
   ]
  },
  {
   "cell_type": "code",
   "execution_count": 92,
   "id": "231614b6",
   "metadata": {},
   "outputs": [],
   "source": [
    "#Naive Bayes on covid data - text column\n",
    "text_data_cv = cv.transform(test)"
   ]
  },
  {
   "cell_type": "code",
   "execution_count": 93,
   "id": "eaa7761d",
   "metadata": {},
   "outputs": [
    {
     "data": {
      "text/plain": [
       "(10956, 10989)"
      ]
     },
     "execution_count": 93,
     "metadata": {},
     "output_type": "execute_result"
    }
   ],
   "source": [
    "text_data_cv.todense().shape"
   ]
  },
  {
   "cell_type": "code",
   "execution_count": 94,
   "id": "c4019850",
   "metadata": {},
   "outputs": [
    {
     "name": "stderr",
     "output_type": "stream",
     "text": [
      "C:\\Users\\deven\\AppData\\Local\\Programs\\Python\\Python310\\lib\\site-packages\\sklearn\\utils\\validation.py:593: FutureWarning: np.matrix usage is deprecated in 1.0 and will raise a TypeError in 1.2. Please convert to a numpy array with np.asarray. For more information see: https://numpy.org/doc/stable/reference/generated/numpy.matrix.html\n",
      "  warnings.warn(\n"
     ]
    },
    {
     "data": {
      "text/plain": [
       "array([1, 1, 0, ..., 1, 1, 1], dtype=int64)"
      ]
     },
     "execution_count": 94,
     "metadata": {},
     "output_type": "execute_result"
    }
   ],
   "source": [
    "nb_cv_prediction =  nb_cv.predict(text_data_cv.todense())\n",
    "nb_cv_prediction"
   ]
  },
  {
   "cell_type": "code",
   "execution_count": 95,
   "id": "855431b0",
   "metadata": {},
   "outputs": [
    {
     "data": {
      "text/plain": [
       "{0: 289, 1: 10441, 2: 226}"
      ]
     },
     "execution_count": 95,
     "metadata": {},
     "output_type": "execute_result"
    }
   ],
   "source": [
    "cv1 = nb_cv_prediction\n",
    "unique, counts = np.unique(cv1, return_counts=True)\n",
    "dict(zip(unique, counts))"
   ]
  },
  {
   "cell_type": "code",
   "execution_count": 96,
   "id": "e067d884",
   "metadata": {},
   "outputs": [
    {
     "data": {
      "text/plain": [
       "RandomForestClassifier()"
      ]
     },
     "execution_count": 96,
     "metadata": {},
     "output_type": "execute_result"
    }
   ],
   "source": [
    "#Random Forest - Tweets\n",
    "rf_cv = RandomForestClassifier()\n",
    "rf_cv.fit(X_train_cv,Y_train_cv)"
   ]
  },
  {
   "cell_type": "code",
   "execution_count": 97,
   "id": "4dc9333a",
   "metadata": {},
   "outputs": [],
   "source": [
    "rf_cv_prediction =  rf_cv.predict(x_test_cv)"
   ]
  },
  {
   "cell_type": "code",
   "execution_count": 98,
   "id": "441321c2",
   "metadata": {},
   "outputs": [
    {
     "data": {
      "text/plain": [
       "0.8721627020156165"
      ]
     },
     "execution_count": 98,
     "metadata": {},
     "output_type": "execute_result"
    }
   ],
   "source": [
    "accuracy_score(rf_cv_prediction,y_test_cv)"
   ]
  },
  {
   "cell_type": "code",
   "execution_count": 99,
   "id": "011601c5",
   "metadata": {},
   "outputs": [
    {
     "name": "stdout",
     "output_type": "stream",
     "text": [
      "Classification Report for the best accuracy classifier in Count Vectorizer:\n",
      "----------------------\n",
      "               precision    recall  f1-score   support\n",
      "\n",
      "           0       0.97      0.99      0.98      1846\n",
      "           1       0.79      0.86      0.82      1854\n",
      "           2       0.86      0.76      0.81      1807\n",
      "\n",
      "    accuracy                           0.87      5507\n",
      "   macro avg       0.87      0.87      0.87      5507\n",
      "weighted avg       0.87      0.87      0.87      5507\n",
      "\n"
     ]
    }
   ],
   "source": [
    "# Classification report\n",
    "cr_c = classification_report(y_test_cv, rf_cv_prediction)\n",
    "print(\"Classification Report for the best accuracy classifier in Count Vectorizer:\\n----------------------\\n\", cr_c)"
   ]
  },
  {
   "cell_type": "code",
   "execution_count": 100,
   "id": "f415dfbb",
   "metadata": {},
   "outputs": [
    {
     "data": {
      "text/plain": [
       "array([0.87179953, 0.86617033, 0.86163065, 0.86124228])"
      ]
     },
     "execution_count": 100,
     "metadata": {},
     "output_type": "execute_result"
    }
   ],
   "source": [
    "multi_fold_Val_3 = cross_val_score(rf_cv, X_train_cv, Y_train_cv, cv = 4)\n",
    "multi_fold_Val_3"
   ]
  },
  {
   "cell_type": "code",
   "execution_count": 101,
   "id": "d83b9aa0",
   "metadata": {},
   "outputs": [
    {
     "name": "stderr",
     "output_type": "stream",
     "text": [
      "C:\\Users\\deven\\AppData\\Local\\Programs\\Python\\Python310\\lib\\site-packages\\sklearn\\utils\\validation.py:593: FutureWarning: np.matrix usage is deprecated in 1.0 and will raise a TypeError in 1.2. Please convert to a numpy array with np.asarray. For more information see: https://numpy.org/doc/stable/reference/generated/numpy.matrix.html\n",
      "  warnings.warn(\n"
     ]
    },
    {
     "data": {
      "text/plain": [
       "array([1, 1, 1, ..., 0, 1, 0], dtype=int64)"
      ]
     },
     "execution_count": 101,
     "metadata": {},
     "output_type": "execute_result"
    }
   ],
   "source": [
    "# Random Forest - Text Column\n",
    "rf_cv_prediction =  rf_cv.predict(text_data_cv.todense())\n",
    "rf_cv_prediction"
   ]
  },
  {
   "cell_type": "code",
   "execution_count": 102,
   "id": "35ff9a9f",
   "metadata": {},
   "outputs": [
    {
     "data": {
      "text/plain": [
       "{0: 8234, 1: 2386, 2: 336}"
      ]
     },
     "execution_count": 102,
     "metadata": {},
     "output_type": "execute_result"
    }
   ],
   "source": [
    "cv2 = rf_cv_prediction\n",
    "unique, counts = np.unique(cv2, return_counts=True)\n",
    "dict(zip(unique, counts))"
   ]
  },
  {
   "cell_type": "code",
   "execution_count": 103,
   "id": "55fd67f7",
   "metadata": {},
   "outputs": [
    {
     "data": {
      "text/plain": [
       "SVC()"
      ]
     },
     "execution_count": 103,
     "metadata": {},
     "output_type": "execute_result"
    }
   ],
   "source": [
    "# SVC - Tweets\n",
    "svm_cv = SVC()\n",
    "svm_cv.fit(X_train_cv,Y_train_cv)"
   ]
  },
  {
   "cell_type": "code",
   "execution_count": 104,
   "id": "20f3d6e8",
   "metadata": {},
   "outputs": [
    {
     "data": {
      "text/plain": [
       "array([0, 1, 1, ..., 2, 1, 0], dtype=int64)"
      ]
     },
     "execution_count": 104,
     "metadata": {},
     "output_type": "execute_result"
    }
   ],
   "source": [
    "svm_cv_prediction =  svm_cv.predict(x_test_cv)\n",
    "svm_cv_prediction"
   ]
  },
  {
   "cell_type": "code",
   "execution_count": 105,
   "id": "e73665e1",
   "metadata": {},
   "outputs": [
    {
     "data": {
      "text/plain": [
       "0.85999636825858"
      ]
     },
     "execution_count": 105,
     "metadata": {},
     "output_type": "execute_result"
    }
   ],
   "source": [
    "accuracy_score(svm_cv_prediction,y_test_cv)"
   ]
  },
  {
   "cell_type": "code",
   "execution_count": 106,
   "id": "ba8cce23",
   "metadata": {},
   "outputs": [
    {
     "data": {
      "text/plain": [
       "array([0.8552751 , 0.85400399, 0.84819321, 0.85306938])"
      ]
     },
     "execution_count": 106,
     "metadata": {},
     "output_type": "execute_result"
    }
   ],
   "source": [
    "multi_fold_Val_3 = cross_val_score(svm_cv, X_train_cv, Y_train_cv, cv = 4)\n",
    "multi_fold_Val_3"
   ]
  },
  {
   "cell_type": "code",
   "execution_count": 107,
   "id": "971462e7",
   "metadata": {},
   "outputs": [
    {
     "data": {
      "text/plain": [
       "array([0, 0, 0, ..., 0, 0, 0], dtype=int64)"
      ]
     },
     "execution_count": 107,
     "metadata": {},
     "output_type": "execute_result"
    }
   ],
   "source": [
    "# SVC - Text Column\n",
    "svm_cv_prediction =  svm_cv.predict(text_data_cv)\n",
    "svm_cv_prediction"
   ]
  },
  {
   "cell_type": "code",
   "execution_count": 108,
   "id": "770c7296",
   "metadata": {},
   "outputs": [
    {
     "data": {
      "text/plain": [
       "{0: 10518, 1: 405, 2: 33}"
      ]
     },
     "execution_count": 108,
     "metadata": {},
     "output_type": "execute_result"
    }
   ],
   "source": [
    "cv3 = svm_cv_prediction\n",
    "unique, counts = np.unique(cv3, return_counts=True)\n",
    "dict(zip(unique, counts))"
   ]
  },
  {
   "cell_type": "code",
   "execution_count": 109,
   "id": "165aca6d",
   "metadata": {},
   "outputs": [
    {
     "data": {
      "text/plain": [
       "(14640, 32768)"
      ]
     },
     "execution_count": 109,
     "metadata": {},
     "output_type": "execute_result"
    }
   ],
   "source": [
    "# Hashing Model\n",
    "from sklearn.feature_extraction.text import HashingVectorizer\n",
    "\n",
    "hs = HashingVectorizer(n_features=2**15)\n",
    "X_final_hs =  hs.fit_transform(X)\n",
    "X_final_hs.shape"
   ]
  },
  {
   "cell_type": "code",
   "execution_count": 110,
   "id": "12a43e5e",
   "metadata": {},
   "outputs": [],
   "source": [
    "smote_hs = SMOTE()\n",
    "x_sm_hs, y_sm_hs = smote.fit_resample(X_final_hs,y)"
   ]
  },
  {
   "cell_type": "code",
   "execution_count": 111,
   "id": "d44aab2c",
   "metadata": {},
   "outputs": [],
   "source": [
    "X_train_hs , x_test_hs , Y_train_hs , y_test_hs = train_test_split(x_sm_hs , y_sm_hs , test_size=0.2)"
   ]
  },
  {
   "cell_type": "code",
   "execution_count": 112,
   "id": "71b5da07",
   "metadata": {},
   "outputs": [
    {
     "data": {
      "text/plain": [
       "RandomForestClassifier()"
      ]
     },
     "execution_count": 112,
     "metadata": {},
     "output_type": "execute_result"
    }
   ],
   "source": [
    "#Random forest - tweets\n",
    "rf_hs = RandomForestClassifier()\n",
    "rf_hs.fit(X_train_hs,Y_train_hs)"
   ]
  },
  {
   "cell_type": "code",
   "execution_count": 113,
   "id": "669ead19",
   "metadata": {},
   "outputs": [
    {
     "data": {
      "text/plain": [
       "array([0, 0, 0, ..., 2, 2, 2], dtype=int64)"
      ]
     },
     "execution_count": 113,
     "metadata": {},
     "output_type": "execute_result"
    }
   ],
   "source": [
    "rf_hs_prediction =  rf_hs.predict(x_test_hs)\n",
    "rf_hs_prediction"
   ]
  },
  {
   "cell_type": "code",
   "execution_count": 114,
   "id": "8cb67c42",
   "metadata": {},
   "outputs": [
    {
     "data": {
      "text/plain": [
       "0.9615035409478845"
      ]
     },
     "execution_count": 114,
     "metadata": {},
     "output_type": "execute_result"
    }
   ],
   "source": [
    "accuracy_score(rf_hs_prediction,y_test_hs)"
   ]
  },
  {
   "cell_type": "code",
   "execution_count": 115,
   "id": "26d68696",
   "metadata": {},
   "outputs": [
    {
     "data": {
      "text/plain": [
       "array([0.94861086, 0.95351371, 0.94951879, 0.95277879])"
      ]
     },
     "execution_count": 115,
     "metadata": {},
     "output_type": "execute_result"
    }
   ],
   "source": [
    "multi_fold_Val_hs_1 = cross_val_score(rf_hs, X_train_hs, Y_train_hs, cv = 4)\n",
    "multi_fold_Val_hs_1"
   ]
  },
  {
   "cell_type": "code",
   "execution_count": 116,
   "id": "7d2db1ef",
   "metadata": {},
   "outputs": [
    {
     "name": "stdout",
     "output_type": "stream",
     "text": [
      "Classification Report for the best accuracy classifier in Hashing Vectorizer:\n",
      "----------------------\n",
      "               precision    recall  f1-score   support\n",
      "\n",
      "           0       0.98      1.00      0.99      1873\n",
      "           1       0.95      0.94      0.95      1801\n",
      "           2       0.96      0.94      0.95      1833\n",
      "\n",
      "    accuracy                           0.96      5507\n",
      "   macro avg       0.96      0.96      0.96      5507\n",
      "weighted avg       0.96      0.96      0.96      5507\n",
      "\n"
     ]
    }
   ],
   "source": [
    "#Classification report\n",
    "cr = classification_report(y_test_hs, rf_hs_prediction)\n",
    "print(\"Classification Report for the best accuracy classifier in Hashing Vectorizer:\\n----------------------\\n\", cr)"
   ]
  },
  {
   "cell_type": "code",
   "execution_count": 117,
   "id": "00023aa4",
   "metadata": {},
   "outputs": [],
   "source": [
    "cm = confusion_matrix(y_test_hs, rf_hs_prediction)"
   ]
  },
  {
   "cell_type": "code",
   "execution_count": 118,
   "id": "cca9663a",
   "metadata": {},
   "outputs": [
    {
     "data": {
      "image/png": "[encoded data removed]",
      "text/plain": [
       "<Figure size 576x432 with 2 Axes>"
      ]
     },
     "metadata": {
      "needs_background": "light"
     },
     "output_type": "display_data"
    }
   ],
   "source": [
    "plt.figure(figsize=(8,6))\n",
    "sentiment_classes = ['Negative', 'Neutral', 'Positive']\n",
    "sns.heatmap(cm, cmap=plt.cm.Blues, annot=True, fmt='d', \n",
    "            xticklabels=sentiment_classes,\n",
    "            yticklabels=sentiment_classes)\n",
    "plt.title('Confusion matrix', fontsize=16)\n",
    "plt.xlabel('Actual label', fontsize=12)\n",
    "plt.ylabel('Predicted label', fontsize=12)\n",
    "plt.show()"
   ]
  },
  {
   "cell_type": "code",
   "execution_count": 119,
   "id": "daebeb0c",
   "metadata": {},
   "outputs": [],
   "source": [
    "text_data_hs = hs.transform(test)"
   ]
  },
  {
   "cell_type": "code",
   "execution_count": 120,
   "id": "b66cc38e",
   "metadata": {},
   "outputs": [
    {
     "data": {
      "text/plain": [
       "(10956, 32768)"
      ]
     },
     "execution_count": 120,
     "metadata": {},
     "output_type": "execute_result"
    }
   ],
   "source": [
    "text_data_hs.todense().shape"
   ]
  },
  {
   "cell_type": "code",
   "execution_count": 121,
   "id": "a220bcc3",
   "metadata": {},
   "outputs": [
    {
     "name": "stderr",
     "output_type": "stream",
     "text": [
      "C:\\Users\\deven\\AppData\\Local\\Programs\\Python\\Python310\\lib\\site-packages\\sklearn\\utils\\validation.py:593: FutureWarning: np.matrix usage is deprecated in 1.0 and will raise a TypeError in 1.2. Please convert to a numpy array with np.asarray. For more information see: https://numpy.org/doc/stable/reference/generated/numpy.matrix.html\n",
      "  warnings.warn(\n"
     ]
    },
    {
     "data": {
      "text/plain": [
       "array([2, 2, 1, ..., 1, 1, 1], dtype=int64)"
      ]
     },
     "execution_count": 121,
     "metadata": {},
     "output_type": "execute_result"
    }
   ],
   "source": [
    "# Random Forest - Text Column\n",
    "rf_hs_prediction =  rf_hs.predict(text_data_hs.todense())\n",
    "rf_hs_prediction"
   ]
  },
  {
   "cell_type": "code",
   "execution_count": 122,
   "id": "c8e5a252",
   "metadata": {},
   "outputs": [
    {
     "data": {
      "text/plain": [
       "{0: 10, 1: 6756, 2: 4190}"
      ]
     },
     "execution_count": 122,
     "metadata": {},
     "output_type": "execute_result"
    }
   ],
   "source": [
    "hs2 = rf_hs_prediction\n",
    "unique, counts = np.unique(hs2, return_counts=True)\n",
    "dict(zip(unique, counts))"
   ]
  },
  {
   "cell_type": "code",
   "execution_count": 123,
   "id": "a061e270",
   "metadata": {},
   "outputs": [
    {
     "data": {
      "text/plain": [
       "SVC()"
      ]
     },
     "execution_count": 123,
     "metadata": {},
     "output_type": "execute_result"
    }
   ],
   "source": [
    "#SVC - Tweets\n",
    "svm_hs = SVC()\n",
    "svm_hs.fit(X_train_hs,Y_train_hs)"
   ]
  },
  {
   "cell_type": "code",
   "execution_count": 124,
   "id": "60087a2b",
   "metadata": {},
   "outputs": [
    {
     "data": {
      "text/plain": [
       "array([0, 0, 0, ..., 2, 2, 2], dtype=int64)"
      ]
     },
     "execution_count": 124,
     "metadata": {},
     "output_type": "execute_result"
    }
   ],
   "source": [
    "svm_hs_prediction =  svm_hs.predict(x_test_hs)\n",
    "svm_hs_prediction"
   ]
  },
  {
   "cell_type": "code",
   "execution_count": 125,
   "id": "a9338753",
   "metadata": {},
   "outputs": [
    {
     "data": {
      "text/plain": [
       "0.9455238786998366"
      ]
     },
     "execution_count": 125,
     "metadata": {},
     "output_type": "execute_result"
    }
   ],
   "source": [
    "accuracy_score(svm_hs_prediction,y_test_hs)"
   ]
  },
  {
   "cell_type": "code",
   "execution_count": 126,
   "id": "6aabfeee",
   "metadata": {},
   "outputs": [
    {
     "data": {
      "text/plain": [
       "array([0.93063374, 0.92990739, 0.935355  , 0.9302579 ])"
      ]
     },
     "execution_count": 126,
     "metadata": {},
     "output_type": "execute_result"
    }
   ],
   "source": [
    "multi_fold_Val_hs_2 = cross_val_score(svm_hs, X_train_hs, Y_train_hs, cv = 4)\n",
    "multi_fold_Val_hs_2"
   ]
  },
  {
   "cell_type": "code",
   "execution_count": 127,
   "id": "b66a2f11",
   "metadata": {},
   "outputs": [
    {
     "data": {
      "text/plain": [
       "array([1, 1, 1, ..., 1, 1, 1], dtype=int64)"
      ]
     },
     "execution_count": 127,
     "metadata": {},
     "output_type": "execute_result"
    }
   ],
   "source": [
    "# SVC - Text Column\n",
    "svm_hs_prediction =  svm_hs.predict(text_data_hs)\n",
    "svm_hs_prediction"
   ]
  },
  {
   "cell_type": "code",
   "execution_count": 128,
   "id": "a82345b2",
   "metadata": {},
   "outputs": [
    {
     "data": {
      "text/plain": [
       "{0: 51, 1: 10378, 2: 527}"
      ]
     },
     "execution_count": 128,
     "metadata": {},
     "output_type": "execute_result"
    }
   ],
   "source": [
    "hs3 = svm_hs_prediction\n",
    "unique, counts = np.unique(hs3, return_counts=True)\n",
    "dict(zip(unique, counts))"
   ]
  },
  {
   "cell_type": "code",
   "execution_count": 129,
   "id": "8e17756b",
   "metadata": {},
   "outputs": [
    {
     "data": {
      "text/plain": [
       "array([0, 0, 0, 0, 0, 0, 0, 0, 0, 0], dtype=int64)"
      ]
     },
     "execution_count": 129,
     "metadata": {},
     "output_type": "execute_result"
    }
   ],
   "source": [
    "#Negative and positive sentences based on SVC classifier as it gives the best output\n",
    "svm_cv_prediction[:10]"
   ]
  },
  {
   "cell_type": "code",
   "execution_count": 130,
   "id": "fbc116ad",
   "metadata": {},
   "outputs": [],
   "source": [
    "def sentences(svm_cv_prediction):\n",
    "    negSent = []\n",
    "    posSent = []\n",
    "    for i, j in enumerate(svm_cv_prediction):\n",
    "        if j == 0:\n",
    "            negSent.append(i)\n",
    "        elif j == 2:\n",
    "            posSent.append(i)\n",
    "    return (negSent, posSent)\n"
   ]
  },
  {
   "cell_type": "code",
   "execution_count": 131,
   "id": "1b32af30",
   "metadata": {},
   "outputs": [],
   "source": [
    "negidx, posidx = sentences(svm_cv_prediction)"
   ]
  },
  {
   "cell_type": "code",
   "execution_count": 132,
   "id": "8aa50402",
   "metadata": {},
   "outputs": [
    {
     "name": "stdout",
     "output_type": "stream",
     "text": [
      "List of all negative sentences:\n",
      "----------------------------\n",
      "\n"
     ]
    },
    {
     "data": {
      "text/plain": [
       "0      bengaluru isolation wards hospitals across kar...\n",
       "1      government making sure new coronavirus make wa...\n",
       "2      apart people falling sick bad fundamental conc...\n",
       "3      asian stock markets mostly higher friday follo...\n",
       "4      cash flow also strong us billion fourth quarte...\n",
       "                             ...                        \n",
       "97     news reading coach drivers bravely step transp...\n",
       "98     wall street major averages tumbled per cent fr...\n",
       "99     author jacob sonenshine investors lot think ne...\n",
       "100    kamala harris outside senate chamber thursday ...\n",
       "101    want news sign medicinenet newsletters thursda...\n",
       "Name: text, Length: 100, dtype: object"
      ]
     },
     "execution_count": 132,
     "metadata": {},
     "output_type": "execute_result"
    }
   ],
   "source": [
    "# Top 100 negative sentences\n",
    "print(\"List of all negative sentences:\\n----------------------------\\n\")\n",
    "negative_sentences = test[negidx]\n",
    "negative_sentences[:100]"
   ]
  },
  {
   "cell_type": "code",
   "execution_count": 133,
   "id": "89410409",
   "metadata": {},
   "outputs": [
    {
     "name": "stdout",
     "output_type": "stream",
     "text": [
      "List of all positive sentences:\n",
      "----------------------------\n",
      "\n"
     ]
    },
    {
     "data": {
      "text/plain": [
       "480      coronavirus chinese virus able fined cure quic...\n",
       "926                corona virus see man wom stupid article\n",
       "1348     going fraudulent elections time republican win...\n",
       "2459              nothing like good coronavirus thin herds\n",
       "2478      wow know coronavirus anyone else world great job\n",
       "2501     god mga hija got news world health organizatio...\n",
       "2758             got insecurities orientation corona virus\n",
       "3582               corona virus see man wom stupid article\n",
       "3993     hk street protests seemed subsided sudden than...\n",
       "4036     see also china version tiktok launches feature...\n",
       "4780     sixth time emergency declared past examples in...\n",
       "4915     dave granlund cartoon coronavirus outbreak nev...\n",
       "5660     controlled borders could get free prizes like ...\n",
       "5726     many cremated vital organs harvested never cor...\n",
       "5832     bno helpful timeline timestamp individual case...\n",
       "5965     see chinnky im gonna run opposite way corona v...\n",
       "6075     certainly good bleach sales q advising idiot f...\n",
       "6315     retribution time china seriously considers ban...\n",
       "6680     thursday january cet lil nas x one dame cool c...\n",
       "6952     tds much life threatening disease coronavirus ...\n",
       "6954       got corona virus last time ever vacation mexico\n",
       "7132     great pumpkin take credit coronavirus explain ...\n",
       "7999             coronavirus spreads first time u cdc says\n",
       "8749        americans hope trump catches coronavirus nfact\n",
       "8859     china much economically pivotal world much int...\n",
       "8981     hk street protests seemed subsided sudden than...\n",
       "9011     let see schengen area helps hinders us coronav...\n",
       "9441                   coronavirus man made patented owned\n",
       "9987     far worse islamic terrorism wuhan coronavirus ...\n",
       "10436    guaranteed chinese telling complete story coro...\n",
       "10703    dave granlund cartoon coronavirus outbreak nev...\n",
       "10708    democrats including presidential candidates jo...\n",
       "10912                    kobe beef goes great corona virus\n",
       "Name: text, dtype: object"
      ]
     },
     "execution_count": 133,
     "metadata": {},
     "output_type": "execute_result"
    }
   ],
   "source": [
    "# Top 100 Positive sentences\n",
    "print(\"List of all positive sentences:\\n----------------------------\\n\")\n",
    "positive_sentences = test[posidx]\n",
    "positive_sentences[:100]"
   ]
  },
  {
   "cell_type": "code",
   "execution_count": 134,
   "id": "6fca2da9",
   "metadata": {},
   "outputs": [],
   "source": [
    "# Top 50 Adjective words\n",
    "import nltk\n",
    "from nltk import tokenize\n",
    "from nltk.tokenize import word_tokenize\n",
    "from nltk.tokenize import sent_tokenize\n",
    "from nltk import *"
   ]
  },
  {
   "cell_type": "code",
   "execution_count": 135,
   "id": "deafb1c6",
   "metadata": {},
   "outputs": [],
   "source": [
    "grammar = RegexpParser(\"\"\"ADJECTIVE_PHRASES: {<RB>+<JJ> | <RB>+<JJR> | <RB>+<JJS> | <RBR>+<JJ> | <RBR>+<JJR> | <RBR>+<JJS> | <RBS>+<JJ> | <RBS>+<JJR> | <RBS>+<JJS> | <JJ><IN>+  }\"\"\")"
   ]
  },
  {
   "cell_type": "code",
   "execution_count": 136,
   "id": "08bab0a7",
   "metadata": {},
   "outputs": [
    {
     "name": "stdout",
     "output_type": "stream",
     "text": [
      "['said', 'new', 'chinese', 'spread', 'world', 'u', 'first', 'one', 'global', 'confirmed', 'two', 'public', 'international', 'reported', 'last', 'infected', 'like', 'medical', 'back', 'united', 'novel', 'home', 'million', 'three', 'still', 'well', 'according', 'many', 'human', 'south', 'due', 'even', 'declared', 'national', 'chief', 'announced', 'far', 'american', 'economic', 'close', 'least', 'respiratory', 'epidemic', 'billion', 'foreign', 'much', 'next', 'high', 'earlier', 'local']\n"
     ]
    }
   ],
   "source": [
    "# 50 negative adjective words\n",
    "\n",
    "#sentence_adjective_phrases = []\n",
    "#s = []\n",
    "#adjective_sent.apply(lambda sentence: fun())\n",
    "from nltk.corpus import wordnet as wn\n",
    "\n",
    "negative_adjectives = []\n",
    "for words in negative_sentences:\n",
    "    for word in word_tokenize(words):\n",
    "        pos = wn.synsets(word, pos='a')\n",
    "        if len(pos) > 0:\n",
    "            negative_adjectives.append(word)\n",
    "\n",
    "negative_adjectives_words = pd.Series(negative_adjectives).value_counts()[:50]\n",
    "\n",
    "print([format(word) for word in negative_adjectives_words.index])"
   ]
  },
  {
   "cell_type": "code",
   "execution_count": 137,
   "id": "3a3f8ae7",
   "metadata": {},
   "outputs": [
    {
     "name": "stdout",
     "output_type": "stream",
     "text": [
      "['like', 'world', 'much', 'far', 'great', 'good', 'chinese', 'made', 'sudden', 'global', 'u', 'stupid', 'telling', 'short', 'first', 'vulnerable', 'pivotal', 'interconnected', 'potential', 'epidemic', 'best', 'open', 'crazy', 'sure', 'military', 'complete', 'patented', 'owned', 'united', 'last', 'islamic', 'biological', 'presidential', 'transmitted', 'deadly', 'worse', 'safe', 'kind', 'controlled', 'uncontrollable', 'going', 'fraudulent', 'republican', 'left', 'thin', 'ready', 'spread', 'sixth', 'declared', 'past']\n"
     ]
    }
   ],
   "source": [
    "# 50 positive adjective words\n",
    "\n",
    "positive_adjectives = []\n",
    "for pos_words in positive_sentences:\n",
    "    for word in word_tokenize(pos_words):\n",
    "        pos = wn.synsets(word, pos='a')\n",
    "        if len(pos) > 0:\n",
    "            positive_adjectives.append(word)\n",
    "\n",
    "positive_adjectives_words = pd.Series(positive_adjectives).value_counts()[:50]\n",
    "\n",
    "print([format(word) for word in positive_adjectives_words.index])"
   ]
  },
  {
   "cell_type": "code",
   "execution_count": null,
   "id": "2eebe1b6",
   "metadata": {},
   "outputs": [],
   "source": []
  }
 ],
 "metadata": {
  "kernelspec": {
   "display_name": "Python 3 (ipykernel)",
   "language": "python",
   "name": "python3"
  },
  "language_info": {
   "codemirror_mode": {
    "name": "ipython",
    "version": 3
   },
   "file_extension": ".py",
   "mimetype": "text/x-python",
   "name": "python",
   "nbconvert_exporter": "python",
   "pygments_lexer": "ipython3",
   "version": "3.10.2"
  }
 },
 "nbformat": 4,
 "nbformat_minor": 5
}
