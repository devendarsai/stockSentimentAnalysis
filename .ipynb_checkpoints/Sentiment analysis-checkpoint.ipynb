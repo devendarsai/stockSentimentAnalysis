{
 "cells": [
  {
   "cell_type": "code",
   "execution_count": 74,
   "id": "73d58e5b",
   "metadata": {},
   "outputs": [
    {
     "name": "stderr",
     "output_type": "stream",
     "text": [
      "[nltk_data] Downloading package averaged_perceptron_tagger to\n",
      "[nltk_data]     C:\\Users\\deven\\AppData\\Roaming\\nltk_data...\n",
      "[nltk_data]   Package averaged_perceptron_tagger is already up-to-\n",
      "[nltk_data]       date!\n",
      "[nltk_data] Downloading package punkt to\n",
      "[nltk_data]     C:\\Users\\deven\\AppData\\Roaming\\nltk_data...\n",
      "[nltk_data]   Package punkt is already up-to-date!\n",
      "[nltk_data] Downloading package stopwords to\n",
      "[nltk_data]     C:\\Users\\deven\\AppData\\Roaming\\nltk_data...\n",
      "[nltk_data]   Package stopwords is already up-to-date!\n",
      "[nltk_data] Downloading package wordnet to\n",
      "[nltk_data]     C:\\Users\\deven\\AppData\\Roaming\\nltk_data...\n",
      "[nltk_data]   Package wordnet is already up-to-date!\n",
      "[nltk_data] Downloading package sentiwordnet to\n",
      "[nltk_data]     C:\\Users\\deven\\AppData\\Roaming\\nltk_data...\n",
      "[nltk_data]   Package sentiwordnet is already up-to-date!\n"
     ]
    }
   ],
   "source": [
    "#importing json, nltk, pandas, json_normalize, word_tokenize and sent_tokenize for preprocessing the data.\n",
    "import json\n",
    "import os\n",
    "import pandas as pd\n",
    "import json_lines\n",
    "import nltk\n",
    "from nltk.tokenize import word_tokenize \n",
    "from nltk.tokenize import sent_tokenize \n",
    "nltk.download('averaged_perceptron_tagger')\n",
    "from collections import Counter\n",
    "from nltk import FreqDist\n",
    "import matplotlib.pyplot as plt\n",
    "import seaborn as sns\n",
    "from PIL import Image\n",
    "import numpy as np\n",
    "import re;\n",
    "import nltk\n",
    "nltk.download('punkt')\n",
    "from nltk.tokenize import word_tokenize\n",
    "from nltk import pos_tag\n",
    "nltk.download('stopwords')\n",
    "from nltk.corpus import stopwords\n",
    "nltk.download('wordnet')\n",
    "from nltk.corpus import wordnet\n",
    "nltk.download('sentiwordnet')\n",
    "from nltk.corpus import sentiwordnet as swn\n",
    "from vaderSentiment.vaderSentiment import SentimentIntensityAnalyzer"
   ]
  },
  {
   "cell_type": "code",
   "execution_count": 75,
   "id": "e51e6df1",
   "metadata": {},
   "outputs": [],
   "source": [
    "#taking each record from json file and appending in the list.\n",
    "raw_data = []\n",
    "for record in open(\"HW 1.json\",encoding = 'UTF-8'):\n",
    "    raw_data.append(json.loads(record))"
   ]
  },
  {
   "cell_type": "code",
   "execution_count": 76,
   "id": "82f8e418",
   "metadata": {},
   "outputs": [],
   "source": [
    "#normalizing the data from raw_data. It will normalize the data like thread.facebook.likes etc.,\n",
    "#This is done by using json_normalize from pandas\n",
    "normalized_data = pd.json_normalize(raw_data)"
   ]
  },
  {
   "cell_type": "code",
   "execution_count": 77,
   "id": "1503be1a",
   "metadata": {},
   "outputs": [],
   "source": [
    "#writing normalized_data into csv file called coronaVirus_data.csv\n",
    "normalized_data.to_csv(\"coronaVirus_data.csv\")"
   ]
  },
  {
   "cell_type": "code",
   "execution_count": 256,
   "id": "81049525",
   "metadata": {
    "scrolled": true
   },
   "outputs": [
    {
     "name": "stdout",
     "output_type": "stream",
     "text": [
      "<class 'pandas.core.frame.DataFrame'>\n",
      "RangeIndex: 10956 entries, 0 to 10955\n",
      "Data columns (total 1 columns):\n",
      " #   Column  Non-Null Count  Dtype \n",
      "---  ------  --------------  ----- \n",
      " 0   text    10956 non-null  object\n",
      "dtypes: object(1)\n",
      "memory usage: 85.7+ KB\n"
     ]
    }
   ],
   "source": [
    "#reading csv file and writing given fields into pandas dataframe.\n",
    "dataframe = pd.read_csv(\"coronaVirus_data.csv\",\n",
    "                        usecols=['text'])\n",
    "#checking info about the dataframe.\n",
    "dataframe.info()"
   ]
  },
  {
   "cell_type": "code",
   "execution_count": 257,
   "id": "4cc2b634",
   "metadata": {
    "scrolled": true
   },
   "outputs": [
    {
     "name": "stdout",
     "output_type": "stream",
     "text": [
      "<class 'pandas.core.frame.DataFrame'>\n",
      "RangeIndex: 1000 entries, 0 to 999\n",
      "Data columns (total 1 columns):\n",
      " #   Column  Non-Null Count  Dtype \n",
      "---  ------  --------------  ----- \n",
      " 0   text    1000 non-null   object\n",
      "dtypes: object(1)\n",
      "memory usage: 7.9+ KB\n"
     ]
    }
   ],
   "source": [
    "dataframe = dataframe.filter(['text'])\n",
    "dataframe = dataframe.head(1000)\n",
    "dataframe.info()"
   ]
  },
  {
   "cell_type": "code",
   "execution_count": 258,
   "id": "35959f6d",
   "metadata": {
    "scrolled": true
   },
   "outputs": [
    {
     "data": {
      "text/html": [
       "<div>\n",
       "<style scoped>\n",
       "    .dataframe tbody tr th:only-of-type {\n",
       "        vertical-align: middle;\n",
       "    }\n",
       "\n",
       "    .dataframe tbody tr th {\n",
       "        vertical-align: top;\n",
       "    }\n",
       "\n",
       "    .dataframe thead th {\n",
       "        text-align: right;\n",
       "    }\n",
       "</style>\n",
       "<table border=\"1\" class=\"dataframe\">\n",
       "  <thead>\n",
       "    <tr style=\"text-align: right;\">\n",
       "      <th></th>\n",
       "      <th>text</th>\n",
       "      <th>Cleaned text</th>\n",
       "    </tr>\n",
       "  </thead>\n",
       "  <tbody>\n",
       "    <tr>\n",
       "      <th>0</th>\n",
       "      <td>Bengaluru: Isolation wards in hospitals across...</td>\n",
       "      <td>Bengaluru Isolation wards in hospitals across ...</td>\n",
       "    </tr>\n",
       "    <tr>\n",
       "      <th>1</th>\n",
       "      <td>The government making sure that the new corona...</td>\n",
       "      <td>The government making sure that the new corona...</td>\n",
       "    </tr>\n",
       "    <tr>\n",
       "      <th>2</th>\n",
       "      <td>Apart from more people falling sick (as bad as...</td>\n",
       "      <td>Apart from more people falling sick as bad as ...</td>\n",
       "    </tr>\n",
       "    <tr>\n",
       "      <th>3</th>\n",
       "      <td>Asian stock markets are mostly higher on Frida...</td>\n",
       "      <td>Asian stock markets are mostly higher on Frida...</td>\n",
       "    </tr>\n",
       "    <tr>\n",
       "      <th>4</th>\n",
       "      <td>Cash flow was also “very strong,” at more than...</td>\n",
       "      <td>Cash flow was also very strong at more than US...</td>\n",
       "    </tr>\n",
       "  </tbody>\n",
       "</table>\n",
       "</div>"
      ],
      "text/plain": [
       "                                                text  \\\n",
       "0  Bengaluru: Isolation wards in hospitals across...   \n",
       "1  The government making sure that the new corona...   \n",
       "2  Apart from more people falling sick (as bad as...   \n",
       "3  Asian stock markets are mostly higher on Frida...   \n",
       "4  Cash flow was also “very strong,” at more than...   \n",
       "\n",
       "                                        Cleaned text  \n",
       "0  Bengaluru Isolation wards in hospitals across ...  \n",
       "1  The government making sure that the new corona...  \n",
       "2  Apart from more people falling sick as bad as ...  \n",
       "3  Asian stock markets are mostly higher on Frida...  \n",
       "4  Cash flow was also very strong at more than US...  "
      ]
     },
     "execution_count": 258,
     "metadata": {},
     "output_type": "execute_result"
    }
   ],
   "source": [
    "# Define a function to clean the text\n",
    "def clean(text):\n",
    "# Removes all special characters and numericals leaving the alphabets\n",
    "    text = re.sub('[^A-Za-z]+', ' ', text)\n",
    "    return text\n",
    "\n",
    "# Cleaning the text in the review column\n",
    "dataframe['Cleaned text'] = dataframe['text'].apply(clean)\n",
    "dataframe.head()"
   ]
  },
  {
   "cell_type": "code",
   "execution_count": 263,
   "id": "b5bb7457",
   "metadata": {},
   "outputs": [
    {
     "data": {
      "text/plain": [
       "179"
      ]
     },
     "execution_count": 263,
     "metadata": {},
     "output_type": "execute_result"
    }
   ],
   "source": [
    "stop_words = set(stopwords.words('english'))\n",
    "len(stop_words)"
   ]
  },
  {
   "cell_type": "code",
   "execution_count": 261,
   "id": "d4c9af97",
   "metadata": {
    "scrolled": false
   },
   "outputs": [
    {
     "data": {
      "text/html": [
       "<div>\n",
       "<style scoped>\n",
       "    .dataframe tbody tr th:only-of-type {\n",
       "        vertical-align: middle;\n",
       "    }\n",
       "\n",
       "    .dataframe tbody tr th {\n",
       "        vertical-align: top;\n",
       "    }\n",
       "\n",
       "    .dataframe thead th {\n",
       "        text-align: right;\n",
       "    }\n",
       "</style>\n",
       "<table border=\"1\" class=\"dataframe\">\n",
       "  <thead>\n",
       "    <tr style=\"text-align: right;\">\n",
       "      <th></th>\n",
       "      <th>text</th>\n",
       "      <th>Cleaned text</th>\n",
       "      <th>POS tagged</th>\n",
       "    </tr>\n",
       "  </thead>\n",
       "  <tbody>\n",
       "    <tr>\n",
       "      <th>0</th>\n",
       "      <td>Bengaluru: Isolation wards in hospitals across...</td>\n",
       "      <td>Bengaluru Isolation wards in hospitals across ...</td>\n",
       "      <td>[(Bengaluru, n), (Isolation, n), (wards, n), (...</td>\n",
       "    </tr>\n",
       "    <tr>\n",
       "      <th>1</th>\n",
       "      <td>The government making sure that the new corona...</td>\n",
       "      <td>The government making sure that the new corona...</td>\n",
       "      <td>[(government, n), (making, v), (sure, a), (new...</td>\n",
       "    </tr>\n",
       "    <tr>\n",
       "      <th>2</th>\n",
       "      <td>Apart from more people falling sick (as bad as...</td>\n",
       "      <td>Apart from more people falling sick as bad as ...</td>\n",
       "      <td>[(Apart, r), (people, n), (falling, v), (sick,...</td>\n",
       "    </tr>\n",
       "    <tr>\n",
       "      <th>3</th>\n",
       "      <td>Asian stock markets are mostly higher on Frida...</td>\n",
       "      <td>Asian stock markets are mostly higher on Frida...</td>\n",
       "      <td>[(Asian, a), (stock, n), (markets, n), (mostly...</td>\n",
       "    </tr>\n",
       "    <tr>\n",
       "      <th>4</th>\n",
       "      <td>Cash flow was also “very strong,” at more than...</td>\n",
       "      <td>Cash flow was also very strong at more than US...</td>\n",
       "      <td>[(Cash, n), (flow, n), (also, r), (strong, a),...</td>\n",
       "    </tr>\n",
       "  </tbody>\n",
       "</table>\n",
       "</div>"
      ],
      "text/plain": [
       "                                                text  \\\n",
       "0  Bengaluru: Isolation wards in hospitals across...   \n",
       "1  The government making sure that the new corona...   \n",
       "2  Apart from more people falling sick (as bad as...   \n",
       "3  Asian stock markets are mostly higher on Frida...   \n",
       "4  Cash flow was also “very strong,” at more than...   \n",
       "\n",
       "                                        Cleaned text  \\\n",
       "0  Bengaluru Isolation wards in hospitals across ...   \n",
       "1  The government making sure that the new corona...   \n",
       "2  Apart from more people falling sick as bad as ...   \n",
       "3  Asian stock markets are mostly higher on Frida...   \n",
       "4  Cash flow was also very strong at more than US...   \n",
       "\n",
       "                                          POS tagged  \n",
       "0  [(Bengaluru, n), (Isolation, n), (wards, n), (...  \n",
       "1  [(government, n), (making, v), (sure, a), (new...  \n",
       "2  [(Apart, r), (people, n), (falling, v), (sick,...  \n",
       "3  [(Asian, a), (stock, n), (markets, n), (mostly...  \n",
       "4  [(Cash, n), (flow, n), (also, r), (strong, a),...  "
      ]
     },
     "execution_count": 261,
     "metadata": {},
     "output_type": "execute_result"
    }
   ],
   "source": [
    "# POS tagger dictionary\n",
    "pos_dict = {'J':wordnet.ADJ, 'V':wordnet.VERB, 'N':wordnet.NOUN, 'R':wordnet.ADV}\n",
    "def token_stop_pos(text):\n",
    "    tags = pos_tag(word_tokenize(text))\n",
    "    newlist = []\n",
    "    for word, tag in tags:\n",
    "        if word.lower() not in stop_words:\n",
    "            newlist.append(tuple([word, pos_dict.get(tag[0])]))\n",
    "    return newlist\n",
    "\n",
    "dataframe['POS tagged'] = dataframe['Cleaned text'].apply(token_stop_pos)\n",
    "dataframe.head()\n"
   ]
  },
  {
   "cell_type": "code",
   "execution_count": 264,
   "id": "6e00b919",
   "metadata": {},
   "outputs": [
    {
     "data": {
      "text/html": [
       "<div>\n",
       "<style scoped>\n",
       "    .dataframe tbody tr th:only-of-type {\n",
       "        vertical-align: middle;\n",
       "    }\n",
       "\n",
       "    .dataframe tbody tr th {\n",
       "        vertical-align: top;\n",
       "    }\n",
       "\n",
       "    .dataframe thead th {\n",
       "        text-align: right;\n",
       "    }\n",
       "</style>\n",
       "<table border=\"1\" class=\"dataframe\">\n",
       "  <thead>\n",
       "    <tr style=\"text-align: right;\">\n",
       "      <th></th>\n",
       "      <th>text</th>\n",
       "      <th>Cleaned text</th>\n",
       "      <th>POS tagged</th>\n",
       "      <th>Lemma</th>\n",
       "    </tr>\n",
       "  </thead>\n",
       "  <tbody>\n",
       "    <tr>\n",
       "      <th>0</th>\n",
       "      <td>Bengaluru: Isolation wards in hospitals across...</td>\n",
       "      <td>Bengaluru Isolation wards in hospitals across ...</td>\n",
       "      <td>[(Bengaluru, n), (Isolation, n), (wards, n), (...</td>\n",
       "      <td>Bengaluru Isolation ward hospital across Kar...</td>\n",
       "    </tr>\n",
       "    <tr>\n",
       "      <th>1</th>\n",
       "      <td>The government making sure that the new corona...</td>\n",
       "      <td>The government making sure that the new corona...</td>\n",
       "      <td>[(government, n), (making, v), (sure, a), (new...</td>\n",
       "      <td>government make sure new coronavirus make wa...</td>\n",
       "    </tr>\n",
       "    <tr>\n",
       "      <th>2</th>\n",
       "      <td>Apart from more people falling sick (as bad as...</td>\n",
       "      <td>Apart from more people falling sick as bad as ...</td>\n",
       "      <td>[(Apart, r), (people, n), (falling, v), (sick,...</td>\n",
       "      <td>Apart people fall sick bad fundamental conce...</td>\n",
       "    </tr>\n",
       "    <tr>\n",
       "      <th>3</th>\n",
       "      <td>Asian stock markets are mostly higher on Frida...</td>\n",
       "      <td>Asian stock markets are mostly higher on Frida...</td>\n",
       "      <td>[(Asian, a), (stock, n), (markets, n), (mostly...</td>\n",
       "      <td>Asian stock market mostly high Friday follow...</td>\n",
       "    </tr>\n",
       "    <tr>\n",
       "      <th>4</th>\n",
       "      <td>Cash flow was also “very strong,” at more than...</td>\n",
       "      <td>Cash flow was also very strong at more than US...</td>\n",
       "      <td>[(Cash, n), (flow, n), (also, r), (strong, a),...</td>\n",
       "      <td>Cash flow also strong US billion fourth quar...</td>\n",
       "    </tr>\n",
       "  </tbody>\n",
       "</table>\n",
       "</div>"
      ],
      "text/plain": [
       "                                                text  \\\n",
       "0  Bengaluru: Isolation wards in hospitals across...   \n",
       "1  The government making sure that the new corona...   \n",
       "2  Apart from more people falling sick (as bad as...   \n",
       "3  Asian stock markets are mostly higher on Frida...   \n",
       "4  Cash flow was also “very strong,” at more than...   \n",
       "\n",
       "                                        Cleaned text  \\\n",
       "0  Bengaluru Isolation wards in hospitals across ...   \n",
       "1  The government making sure that the new corona...   \n",
       "2  Apart from more people falling sick as bad as ...   \n",
       "3  Asian stock markets are mostly higher on Frida...   \n",
       "4  Cash flow was also very strong at more than US...   \n",
       "\n",
       "                                          POS tagged  \\\n",
       "0  [(Bengaluru, n), (Isolation, n), (wards, n), (...   \n",
       "1  [(government, n), (making, v), (sure, a), (new...   \n",
       "2  [(Apart, r), (people, n), (falling, v), (sick,...   \n",
       "3  [(Asian, a), (stock, n), (markets, n), (mostly...   \n",
       "4  [(Cash, n), (flow, n), (also, r), (strong, a),...   \n",
       "\n",
       "                                               Lemma  \n",
       "0    Bengaluru Isolation ward hospital across Kar...  \n",
       "1    government make sure new coronavirus make wa...  \n",
       "2    Apart people fall sick bad fundamental conce...  \n",
       "3    Asian stock market mostly high Friday follow...  \n",
       "4    Cash flow also strong US billion fourth quar...  "
      ]
     },
     "execution_count": 264,
     "metadata": {},
     "output_type": "execute_result"
    }
   ],
   "source": [
    "from nltk.stem import WordNetLemmatizer\n",
    "wordnet_lemmatizer = WordNetLemmatizer()\n",
    "def lemmatize(pos_data):\n",
    "    lemma_rew = \" \"\n",
    "    for word, pos in pos_data:\n",
    "        if not pos:\n",
    "            lemma = word\n",
    "            lemma_rew = lemma_rew + \" \" + lemma\n",
    "        else:\n",
    "            lemma = wordnet_lemmatizer.lemmatize(word, pos=pos)\n",
    "            lemma_rew = lemma_rew + \" \" + lemma\n",
    "    return lemma_rew\n",
    "\n",
    "dataframe['Lemma'] = dataframe['POS tagged'].apply(lemmatize)\n",
    "dataframe.head()"
   ]
  },
  {
   "cell_type": "code",
   "execution_count": 265,
   "id": "a0758a5a",
   "metadata": {},
   "outputs": [],
   "source": [
    "from textblob import TextBlob\n",
    "# function to calculate subjectivity\n",
    "def getSubjectivity(review):\n",
    "    return TextBlob(review).sentiment.subjectivity\n",
    "    # function to calculate polarity\n",
    "def getPolarity(review):\n",
    "        return TextBlob(review).sentiment.polarity\n",
    "\n",
    "# function to analyze the reviews\n",
    "def analysis(score):\n",
    "    if score < 0:\n",
    "        return 'Negative'\n",
    "    elif score == 0:\n",
    "        return 'Neutral'\n",
    "    else:\n",
    "        return 'Positive'"
   ]
  },
  {
   "cell_type": "code",
   "execution_count": 266,
   "id": "d0884e6f",
   "metadata": {},
   "outputs": [],
   "source": [
    "fin_data = pd.DataFrame(dataframe[['text', 'Lemma']])"
   ]
  },
  {
   "cell_type": "code",
   "execution_count": 267,
   "id": "0cfbfc3c",
   "metadata": {},
   "outputs": [
    {
     "data": {
      "text/html": [
       "<div>\n",
       "<style scoped>\n",
       "    .dataframe tbody tr th:only-of-type {\n",
       "        vertical-align: middle;\n",
       "    }\n",
       "\n",
       "    .dataframe tbody tr th {\n",
       "        vertical-align: top;\n",
       "    }\n",
       "\n",
       "    .dataframe thead th {\n",
       "        text-align: right;\n",
       "    }\n",
       "</style>\n",
       "<table border=\"1\" class=\"dataframe\">\n",
       "  <thead>\n",
       "    <tr style=\"text-align: right;\">\n",
       "      <th></th>\n",
       "      <th>text</th>\n",
       "      <th>Lemma</th>\n",
       "      <th>Polarity</th>\n",
       "      <th>Analysis</th>\n",
       "    </tr>\n",
       "  </thead>\n",
       "  <tbody>\n",
       "    <tr>\n",
       "      <th>0</th>\n",
       "      <td>Bengaluru: Isolation wards in hospitals across...</td>\n",
       "      <td>Bengaluru Isolation ward hospital across Kar...</td>\n",
       "      <td>0.016667</td>\n",
       "      <td>Positive</td>\n",
       "    </tr>\n",
       "    <tr>\n",
       "      <th>1</th>\n",
       "      <td>The government making sure that the new corona...</td>\n",
       "      <td>government make sure new coronavirus make wa...</td>\n",
       "      <td>0.193182</td>\n",
       "      <td>Positive</td>\n",
       "    </tr>\n",
       "    <tr>\n",
       "      <th>2</th>\n",
       "      <td>Apart from more people falling sick (as bad as...</td>\n",
       "      <td>Apart people fall sick bad fundamental conce...</td>\n",
       "      <td>-0.349735</td>\n",
       "      <td>Negative</td>\n",
       "    </tr>\n",
       "    <tr>\n",
       "      <th>3</th>\n",
       "      <td>Asian stock markets are mostly higher on Frida...</td>\n",
       "      <td>Asian stock market mostly high Friday follow...</td>\n",
       "      <td>-0.015464</td>\n",
       "      <td>Negative</td>\n",
       "    </tr>\n",
       "    <tr>\n",
       "      <th>4</th>\n",
       "      <td>Cash flow was also “very strong,” at more than...</td>\n",
       "      <td>Cash flow also strong US billion fourth quar...</td>\n",
       "      <td>0.156912</td>\n",
       "      <td>Positive</td>\n",
       "    </tr>\n",
       "  </tbody>\n",
       "</table>\n",
       "</div>"
      ],
      "text/plain": [
       "                                                text  \\\n",
       "0  Bengaluru: Isolation wards in hospitals across...   \n",
       "1  The government making sure that the new corona...   \n",
       "2  Apart from more people falling sick (as bad as...   \n",
       "3  Asian stock markets are mostly higher on Frida...   \n",
       "4  Cash flow was also “very strong,” at more than...   \n",
       "\n",
       "                                               Lemma  Polarity  Analysis  \n",
       "0    Bengaluru Isolation ward hospital across Kar...  0.016667  Positive  \n",
       "1    government make sure new coronavirus make wa...  0.193182  Positive  \n",
       "2    Apart people fall sick bad fundamental conce... -0.349735  Negative  \n",
       "3    Asian stock market mostly high Friday follow... -0.015464  Negative  \n",
       "4    Cash flow also strong US billion fourth quar...  0.156912  Positive  "
      ]
     },
     "execution_count": 267,
     "metadata": {},
     "output_type": "execute_result"
    }
   ],
   "source": [
    "# fin_data['Subjectivity'] = fin_data['Lemma'].apply(getSubjectivity) \n",
    "fin_data['Polarity'] = fin_data['Lemma'].apply(getPolarity) \n",
    "fin_data['Analysis'] = fin_data['Polarity'].apply(analysis)\n",
    "fin_data.head()"
   ]
  },
  {
   "cell_type": "code",
   "execution_count": 268,
   "id": "b93bb4ad",
   "metadata": {
    "scrolled": true
   },
   "outputs": [
    {
     "data": {
      "text/plain": [
       "Positive    775\n",
       "Negative    183\n",
       "Neutral      42\n",
       "Name: Analysis, dtype: int64"
      ]
     },
     "execution_count": 268,
     "metadata": {},
     "output_type": "execute_result"
    }
   ],
   "source": [
    "tb_counts = fin_data.Analysis.value_counts()\n",
    "\n",
    "tb_counts"
   ]
  },
  {
   "cell_type": "code",
   "execution_count": 269,
   "id": "0548757e",
   "metadata": {
    "scrolled": true
   },
   "outputs": [
    {
     "data": {
      "text/html": [
       "<div>\n",
       "<style scoped>\n",
       "    .dataframe tbody tr th:only-of-type {\n",
       "        vertical-align: middle;\n",
       "    }\n",
       "\n",
       "    .dataframe tbody tr th {\n",
       "        vertical-align: top;\n",
       "    }\n",
       "\n",
       "    .dataframe thead th {\n",
       "        text-align: right;\n",
       "    }\n",
       "</style>\n",
       "<table border=\"1\" class=\"dataframe\">\n",
       "  <thead>\n",
       "    <tr style=\"text-align: right;\">\n",
       "      <th></th>\n",
       "      <th>text</th>\n",
       "      <th>Lemma</th>\n",
       "      <th>Polarity</th>\n",
       "      <th>Analysis</th>\n",
       "      <th>Vader Sentiment</th>\n",
       "      <th>Vader Analysis</th>\n",
       "    </tr>\n",
       "  </thead>\n",
       "  <tbody>\n",
       "    <tr>\n",
       "      <th>0</th>\n",
       "      <td>Bengaluru: Isolation wards in hospitals across...</td>\n",
       "      <td>Bengaluru Isolation ward hospital across Kar...</td>\n",
       "      <td>0.016667</td>\n",
       "      <td>Positive</td>\n",
       "      <td>-0.5574</td>\n",
       "      <td>Negative</td>\n",
       "    </tr>\n",
       "    <tr>\n",
       "      <th>1</th>\n",
       "      <td>The government making sure that the new corona...</td>\n",
       "      <td>government make sure new coronavirus make wa...</td>\n",
       "      <td>0.193182</td>\n",
       "      <td>Positive</td>\n",
       "      <td>0.1027</td>\n",
       "      <td>Neutral</td>\n",
       "    </tr>\n",
       "    <tr>\n",
       "      <th>2</th>\n",
       "      <td>Apart from more people falling sick (as bad as...</td>\n",
       "      <td>Apart people fall sick bad fundamental conce...</td>\n",
       "      <td>-0.349735</td>\n",
       "      <td>Negative</td>\n",
       "      <td>-0.8932</td>\n",
       "      <td>Negative</td>\n",
       "    </tr>\n",
       "    <tr>\n",
       "      <th>3</th>\n",
       "      <td>Asian stock markets are mostly higher on Frida...</td>\n",
       "      <td>Asian stock market mostly high Friday follow...</td>\n",
       "      <td>-0.015464</td>\n",
       "      <td>Negative</td>\n",
       "      <td>0.9747</td>\n",
       "      <td>Positive</td>\n",
       "    </tr>\n",
       "    <tr>\n",
       "      <th>4</th>\n",
       "      <td>Cash flow was also “very strong,” at more than...</td>\n",
       "      <td>Cash flow also strong US billion fourth quar...</td>\n",
       "      <td>0.156912</td>\n",
       "      <td>Positive</td>\n",
       "      <td>0.9906</td>\n",
       "      <td>Positive</td>\n",
       "    </tr>\n",
       "  </tbody>\n",
       "</table>\n",
       "</div>"
      ],
      "text/plain": [
       "                                                text  \\\n",
       "0  Bengaluru: Isolation wards in hospitals across...   \n",
       "1  The government making sure that the new corona...   \n",
       "2  Apart from more people falling sick (as bad as...   \n",
       "3  Asian stock markets are mostly higher on Frida...   \n",
       "4  Cash flow was also “very strong,” at more than...   \n",
       "\n",
       "                                               Lemma  Polarity  Analysis  \\\n",
       "0    Bengaluru Isolation ward hospital across Kar...  0.016667  Positive   \n",
       "1    government make sure new coronavirus make wa...  0.193182  Positive   \n",
       "2    Apart people fall sick bad fundamental conce... -0.349735  Negative   \n",
       "3    Asian stock market mostly high Friday follow... -0.015464  Negative   \n",
       "4    Cash flow also strong US billion fourth quar...  0.156912  Positive   \n",
       "\n",
       "   Vader Sentiment Vader Analysis  \n",
       "0          -0.5574       Negative  \n",
       "1           0.1027        Neutral  \n",
       "2          -0.8932       Negative  \n",
       "3           0.9747       Positive  \n",
       "4           0.9906       Positive  "
      ]
     },
     "execution_count": 269,
     "metadata": {},
     "output_type": "execute_result"
    }
   ],
   "source": [
    "from vaderSentiment.vaderSentiment import SentimentIntensityAnalyzer\n",
    "analyzer = SentimentIntensityAnalyzer()\n",
    "# function to calculate vader sentiment\n",
    "def vadersentimentanalysis(review):\n",
    "    vs = analyzer.polarity_scores(review)\n",
    "    return vs['compound']\n",
    "fin_data['Vader Sentiment'] = fin_data['Lemma'].apply(vadersentimentanalysis)\n",
    "# function to analyse\n",
    "def vader_analysis(compound):\n",
    "    if compound >= 0.5:\n",
    "        return 'Positive'\n",
    "    elif compound <= -0.5 :\n",
    "        return 'Negative'\n",
    "    else:\n",
    "        return 'Neutral'\n",
    "fin_data['Vader Analysis'] = fin_data['Vader Sentiment'].apply(vader_analysis)\n",
    "fin_data.head()"
   ]
  },
  {
   "cell_type": "code",
   "execution_count": 270,
   "id": "f8d286b0",
   "metadata": {},
   "outputs": [
    {
     "data": {
      "text/plain": [
       "Negative    421\n",
       "Positive    364\n",
       "Neutral     215\n",
       "Name: Vader Analysis, dtype: int64"
      ]
     },
     "execution_count": 270,
     "metadata": {},
     "output_type": "execute_result"
    }
   ],
   "source": [
    "vader_counts = fin_data['Vader Analysis'].value_counts()\n",
    "vader_counts"
   ]
  },
  {
   "cell_type": "code",
   "execution_count": 271,
   "id": "137decf2",
   "metadata": {},
   "outputs": [
    {
     "data": {
      "text/html": [
       "<div>\n",
       "<style scoped>\n",
       "    .dataframe tbody tr th:only-of-type {\n",
       "        vertical-align: middle;\n",
       "    }\n",
       "\n",
       "    .dataframe tbody tr th {\n",
       "        vertical-align: top;\n",
       "    }\n",
       "\n",
       "    .dataframe thead th {\n",
       "        text-align: right;\n",
       "    }\n",
       "</style>\n",
       "<table border=\"1\" class=\"dataframe\">\n",
       "  <thead>\n",
       "    <tr style=\"text-align: right;\">\n",
       "      <th></th>\n",
       "      <th>text</th>\n",
       "      <th>Lemma</th>\n",
       "      <th>Polarity</th>\n",
       "      <th>Analysis</th>\n",
       "      <th>Vader Sentiment</th>\n",
       "      <th>Vader Analysis</th>\n",
       "      <th>SWN analysis</th>\n",
       "    </tr>\n",
       "  </thead>\n",
       "  <tbody>\n",
       "    <tr>\n",
       "      <th>0</th>\n",
       "      <td>Bengaluru: Isolation wards in hospitals across...</td>\n",
       "      <td>Bengaluru Isolation ward hospital across Kar...</td>\n",
       "      <td>0.016667</td>\n",
       "      <td>Positive</td>\n",
       "      <td>-0.5574</td>\n",
       "      <td>Negative</td>\n",
       "      <td>0.0</td>\n",
       "    </tr>\n",
       "    <tr>\n",
       "      <th>1</th>\n",
       "      <td>The government making sure that the new corona...</td>\n",
       "      <td>government make sure new coronavirus make wa...</td>\n",
       "      <td>0.193182</td>\n",
       "      <td>Positive</td>\n",
       "      <td>0.1027</td>\n",
       "      <td>Neutral</td>\n",
       "      <td>0.0</td>\n",
       "    </tr>\n",
       "    <tr>\n",
       "      <th>2</th>\n",
       "      <td>Apart from more people falling sick (as bad as...</td>\n",
       "      <td>Apart people fall sick bad fundamental conce...</td>\n",
       "      <td>-0.349735</td>\n",
       "      <td>Negative</td>\n",
       "      <td>-0.8932</td>\n",
       "      <td>Negative</td>\n",
       "      <td>0.0</td>\n",
       "    </tr>\n",
       "    <tr>\n",
       "      <th>3</th>\n",
       "      <td>Asian stock markets are mostly higher on Frida...</td>\n",
       "      <td>Asian stock market mostly high Friday follow...</td>\n",
       "      <td>-0.015464</td>\n",
       "      <td>Negative</td>\n",
       "      <td>0.9747</td>\n",
       "      <td>Positive</td>\n",
       "      <td>0.0</td>\n",
       "    </tr>\n",
       "    <tr>\n",
       "      <th>4</th>\n",
       "      <td>Cash flow was also “very strong,” at more than...</td>\n",
       "      <td>Cash flow also strong US billion fourth quar...</td>\n",
       "      <td>0.156912</td>\n",
       "      <td>Positive</td>\n",
       "      <td>0.9906</td>\n",
       "      <td>Positive</td>\n",
       "      <td>0.0</td>\n",
       "    </tr>\n",
       "  </tbody>\n",
       "</table>\n",
       "</div>"
      ],
      "text/plain": [
       "                                                text  \\\n",
       "0  Bengaluru: Isolation wards in hospitals across...   \n",
       "1  The government making sure that the new corona...   \n",
       "2  Apart from more people falling sick (as bad as...   \n",
       "3  Asian stock markets are mostly higher on Frida...   \n",
       "4  Cash flow was also “very strong,” at more than...   \n",
       "\n",
       "                                               Lemma  Polarity  Analysis  \\\n",
       "0    Bengaluru Isolation ward hospital across Kar...  0.016667  Positive   \n",
       "1    government make sure new coronavirus make wa...  0.193182  Positive   \n",
       "2    Apart people fall sick bad fundamental conce... -0.349735  Negative   \n",
       "3    Asian stock market mostly high Friday follow... -0.015464  Negative   \n",
       "4    Cash flow also strong US billion fourth quar...  0.156912  Positive   \n",
       "\n",
       "   Vader Sentiment Vader Analysis  SWN analysis  \n",
       "0          -0.5574       Negative           0.0  \n",
       "1           0.1027        Neutral           0.0  \n",
       "2          -0.8932       Negative           0.0  \n",
       "3           0.9747       Positive           0.0  \n",
       "4           0.9906       Positive           0.0  "
      ]
     },
     "execution_count": 271,
     "metadata": {},
     "output_type": "execute_result"
    }
   ],
   "source": [
    "def sentiwordnetanalysis(pos_data):\n",
    "    sentiment = 0\n",
    "    tokens_count = 0\n",
    "    for word, pos in pos_data:\n",
    "        if not pos:\n",
    "            continue\n",
    "        lemma = wordnet_lemmatizer.lemmatize(word, pos=pos)\n",
    "        if not lemma:\n",
    "            continue\n",
    "        synsets = wordnet.synsets(lemma, pos=pos)\n",
    "        if not synsets:\n",
    "            continue\n",
    "            # Take the first sense, the most common\n",
    "            synset = synsets[0]\n",
    "            swn_synset = swn.senti_synset(synset.name())\n",
    "            sentiment += swn_synset.pos_score() - swn_synset.neg_score()\n",
    "            tokens_count += 1\n",
    "            # print(swn_synset.pos_score(),swn_synset.neg_score(),swn_synset.obj_score())\n",
    "        if not tokens_count:\n",
    "            return 0\n",
    "        if sentiment>0:\n",
    "            return \"Positive\"\n",
    "        if sentiment==0:\n",
    "            return \"Neutral\"\n",
    "        else:\n",
    "            return \"Negative\"\n",
    "\n",
    "fin_data['SWN analysis'] = dataframe['POS tagged'].apply(sentiwordnetanalysis)\n",
    "fin_data.head()"
   ]
  },
  {
   "cell_type": "code",
   "execution_count": 292,
   "id": "bc2e739e",
   "metadata": {},
   "outputs": [
    {
     "data": {
      "text/plain": [
       "pandas.core.series.Series"
      ]
     },
     "execution_count": 292,
     "metadata": {},
     "output_type": "execute_result"
    }
   ],
   "source": [
    "swn_counts= fin_data['SWN analysis'].value_counts()\n",
    "type(swn_counts)"
   ]
  },
  {
   "cell_type": "code",
   "execution_count": 301,
   "id": "7416c17b",
   "metadata": {},
   "outputs": [
    {
     "data": {
      "text/plain": [
       "([<matplotlib.patches.Wedge at 0x29e862b2c80>],\n",
       " [Text(-1.1, 1.3471114790620887e-16, '0.0')],\n",
       " [Text(-0.6, 7.347880794884119e-17, '100.0%')])"
      ]
     },
     "execution_count": 301,
     "metadata": {},
     "output_type": "execute_result"
    },
    {
     "data": {
      "image/png": "[encoded data removed]",
      "text/plain": [
       "<Figure size 1080x504 with 3 Axes>"
      ]
     },
     "metadata": {},
     "output_type": "display_data"
    }
   ],
   "source": [
    "import matplotlib.pyplot as plt\n",
    "%matplotlib inline\n",
    "plt.figure(figsize=(15,7))\n",
    "plt.subplot(1,3,1)\n",
    "plt.title(\"TextBlob results\")\n",
    "plt.pie(tb_counts.values, labels = tb_counts.index, explode = (0, 0, 0), autopct='%1.1f%%', shadow=False)\n",
    "plt.subplot(1,3,2)\n",
    "plt.title(\"VADER results\")\n",
    "plt.pie(vader_counts.values, labels = vader_counts.index, explode = (0, 0, 0), autopct='%1.1f%%', shadow=False)\n",
    "plt.subplot(1,3,3)\n",
    "plt.title(\"SentiWordNet results\")\n",
    "plt.pie(swn_counts.values, labels = swn_counts.index, autopct='%1.1f%%', shadow=False)"
   ]
  }
 ],
 "metadata": {
  "kernelspec": {
   "display_name": "Python 3 (ipykernel)",
   "language": "python",
   "name": "python3"
  },
  "language_info": {
   "codemirror_mode": {
    "name": "ipython",
    "version": 3
   },
   "file_extension": ".py",
   "mimetype": "text/x-python",
   "name": "python",
   "nbconvert_exporter": "python",
   "pygments_lexer": "ipython3",
   "version": "3.10.2"
  }
 },
 "nbformat": 4,
 "nbformat_minor": 5
}
