{
 "cells": [
  {
   "cell_type": "code",
   "execution_count": 2,
   "id": "e394b469",
   "metadata": {},
   "outputs": [],
   "source": [
    "#importing json, nltk, pandas, json_normalize, word_tokenize and sent_tokenize for preprocessing the data.\n",
    "import json\n",
    "import nltk\n",
    "import pandas as pd\n",
    "from pandas import json_normalize\n",
    "from nltk.tokenize import word_tokenize, sent_tokenize"
   ]
  },
  {
   "cell_type": "code",
   "execution_count": 3,
   "id": "91877761",
   "metadata": {},
   "outputs": [],
   "source": [
    "#taking each record from json file and appending in the list.\n",
    "raw_data = []\n",
    "for record in open(\"HW 1.json\",encoding = 'UTF-8'):\n",
    "    raw_data.append(json.loads(record))"
   ]
  },
  {
   "cell_type": "code",
   "execution_count": 4,
   "id": "62cda990",
   "metadata": {},
   "outputs": [],
   "source": [
    "#normalizing the data from raw_data. It will normalize the data like thread.facebook.likes etc.,\n",
    "#This is done by using json_normalize from pandas\n",
    "normalized_data = pd.json_normalize(raw_data)"
   ]
  },
  {
   "cell_type": "code",
   "execution_count": 5,
   "id": "e6eb28d8",
   "metadata": {},
   "outputs": [],
   "source": [
    "#writing normalized_data into csv file called coronaVirus_data.csv\n",
    "normalized_data.to_csv(\"coronaVirus_data.csv\")"
   ]
  },
  {
   "cell_type": "code",
   "execution_count": 6,
   "id": "ab65c91b",
   "metadata": {
    "scrolled": false
   },
   "outputs": [
    {
     "name": "stdout",
     "output_type": "stream",
     "text": [
      "<class 'pandas.core.frame.DataFrame'>\n",
      "RangeIndex: 10956 entries, 0 to 10955\n",
      "Data columns (total 10 columns):\n",
      " #   Column                           Non-Null Count  Dtype \n",
      "---  ------                           --------------  ----- \n",
      " 0   author                           7671 non-null   object\n",
      " 1   url                              10956 non-null  object\n",
      " 2   title                            10625 non-null  object\n",
      " 3   text                             10956 non-null  object\n",
      " 4   published                        10956 non-null  object\n",
      " 5   thread.social.facebook.likes     10956 non-null  int64 \n",
      " 6   thread.social.facebook.shares    10956 non-null  int64 \n",
      " 7   thread.social.facebook.comments  10956 non-null  int64 \n",
      " 8   thread.country                   10865 non-null  object\n",
      " 9   thread.replies_count             10956 non-null  int64 \n",
      "dtypes: int64(4), object(6)\n",
      "memory usage: 856.1+ KB\n"
     ]
    }
   ],
   "source": [
    "#reading csv file and writing given fields into pandas dataframe.\n",
    "dataframe = pd.read_csv(\"coronaVirus_data.csv\",\n",
    "                        usecols=['thread.social.facebook.likes','thread.social.facebook.shares','thread.social.facebook.comments',\n",
    "                                 'title','published','thread.replies_count','author','url','thread.country','text'])\n",
    "#checking info about the dataframe.\n",
    "dataframe.info()"
   ]
  },
  {
   "cell_type": "code",
   "execution_count": 38,
   "id": "07a082bd",
   "metadata": {},
   "outputs": [
    {
     "data": {
      "text/html": [
       "<div>\n",
       "<style scoped>\n",
       "    .dataframe tbody tr th:only-of-type {\n",
       "        vertical-align: middle;\n",
       "    }\n",
       "\n",
       "    .dataframe tbody tr th {\n",
       "        vertical-align: top;\n",
       "    }\n",
       "\n",
       "    .dataframe thead th {\n",
       "        text-align: right;\n",
       "    }\n",
       "</style>\n",
       "<table border=\"1\" class=\"dataframe\">\n",
       "  <thead>\n",
       "    <tr style=\"text-align: right;\">\n",
       "      <th></th>\n",
       "      <th>author</th>\n",
       "      <th>url</th>\n",
       "      <th>title</th>\n",
       "      <th>text</th>\n",
       "      <th>published</th>\n",
       "      <th>thread.social.facebook.likes</th>\n",
       "      <th>thread.social.facebook.shares</th>\n",
       "      <th>thread.social.facebook.comments</th>\n",
       "      <th>thread.country</th>\n",
       "      <th>thread.replies_count</th>\n",
       "      <th>tokenized_sentences</th>\n",
       "    </tr>\n",
       "  </thead>\n",
       "  <tbody>\n",
       "    <tr>\n",
       "      <th>0</th>\n",
       "      <td>Udayavani</td>\n",
       "      <td>https://m.dailyhunt.in/news/india/english/uday...</td>\n",
       "      <td>Karnataka: Helplines, isolation wards set up f...</td>\n",
       "      <td>Bengaluru: Isolation wards in hospitals across...</td>\n",
       "      <td>2020-01-31T11:46:00.000+02:00</td>\n",
       "      <td>0</td>\n",
       "      <td>0</td>\n",
       "      <td>0</td>\n",
       "      <td>IN</td>\n",
       "      <td>0</td>\n",
       "      <td>[Bengaluru: Isolation wards in hospitals acros...</td>\n",
       "    </tr>\n",
       "    <tr>\n",
       "      <th>1</th>\n",
       "      <td>NaN</td>\n",
       "      <td>http://cnnphilippines.com/videos/2020/1/28/Hea...</td>\n",
       "      <td>Health dept. monitoring 24 people for possible...</td>\n",
       "      <td>The government making sure that the new corona...</td>\n",
       "      <td>2020-01-28T02:00:00.000+02:00</td>\n",
       "      <td>0</td>\n",
       "      <td>0</td>\n",
       "      <td>0</td>\n",
       "      <td>US</td>\n",
       "      <td>0</td>\n",
       "      <td>[The government making sure that the new coron...</td>\n",
       "    </tr>\n",
       "    <tr>\n",
       "      <th>2</th>\n",
       "      <td>jmccorm</td>\n",
       "      <td>https://news.ycombinator.com/item?id=22194798#...</td>\n",
       "      <td>NaN</td>\n",
       "      <td>Apart from more people falling sick (as bad as...</td>\n",
       "      <td>2020-01-31T06:38:00.000+02:00</td>\n",
       "      <td>0</td>\n",
       "      <td>0</td>\n",
       "      <td>0</td>\n",
       "      <td>US</td>\n",
       "      <td>266</td>\n",
       "      <td>[Apart from more people falling sick (as bad a...</td>\n",
       "    </tr>\n",
       "    <tr>\n",
       "      <th>3</th>\n",
       "      <td>rttnews.com</td>\n",
       "      <td>https://www.rttnews.com/3064615/asian-markets-...</td>\n",
       "      <td>Asian Markets Mostly Higher</td>\n",
       "      <td>Asian stock markets are mostly higher on Frida...</td>\n",
       "      <td>2020-01-31T05:53:00.000+02:00</td>\n",
       "      <td>0</td>\n",
       "      <td>0</td>\n",
       "      <td>0</td>\n",
       "      <td>US</td>\n",
       "      <td>0</td>\n",
       "      <td>[Asian stock markets are mostly higher on Frid...</td>\n",
       "    </tr>\n",
       "    <tr>\n",
       "      <th>4</th>\n",
       "      <td>Joe Easton</td>\n",
       "      <td>http://www.bnnbloomberg.ca/tesla-soars-as-bear...</td>\n",
       "      <td>Tesla soars as bearish analysts left with litt...</td>\n",
       "      <td>Cash flow was also “very strong,” at more than...</td>\n",
       "      <td>2020-01-30T02:00:00.000+02:00</td>\n",
       "      <td>0</td>\n",
       "      <td>0</td>\n",
       "      <td>0</td>\n",
       "      <td>CA</td>\n",
       "      <td>0</td>\n",
       "      <td>[Cash flow was also “very strong,” at more tha...</td>\n",
       "    </tr>\n",
       "  </tbody>\n",
       "</table>\n",
       "</div>"
      ],
      "text/plain": [
       "        author                                                url  \\\n",
       "0    Udayavani  https://m.dailyhunt.in/news/india/english/uday...   \n",
       "1          NaN  http://cnnphilippines.com/videos/2020/1/28/Hea...   \n",
       "2      jmccorm  https://news.ycombinator.com/item?id=22194798#...   \n",
       "3  rttnews.com  https://www.rttnews.com/3064615/asian-markets-...   \n",
       "4   Joe Easton  http://www.bnnbloomberg.ca/tesla-soars-as-bear...   \n",
       "\n",
       "                                               title  \\\n",
       "0  Karnataka: Helplines, isolation wards set up f...   \n",
       "1  Health dept. monitoring 24 people for possible...   \n",
       "2                                                NaN   \n",
       "3                        Asian Markets Mostly Higher   \n",
       "4  Tesla soars as bearish analysts left with litt...   \n",
       "\n",
       "                                                text  \\\n",
       "0  Bengaluru: Isolation wards in hospitals across...   \n",
       "1  The government making sure that the new corona...   \n",
       "2  Apart from more people falling sick (as bad as...   \n",
       "3  Asian stock markets are mostly higher on Frida...   \n",
       "4  Cash flow was also “very strong,” at more than...   \n",
       "\n",
       "                       published  thread.social.facebook.likes  \\\n",
       "0  2020-01-31T11:46:00.000+02:00                             0   \n",
       "1  2020-01-28T02:00:00.000+02:00                             0   \n",
       "2  2020-01-31T06:38:00.000+02:00                             0   \n",
       "3  2020-01-31T05:53:00.000+02:00                             0   \n",
       "4  2020-01-30T02:00:00.000+02:00                             0   \n",
       "\n",
       "   thread.social.facebook.shares  thread.social.facebook.comments  \\\n",
       "0                              0                                0   \n",
       "1                              0                                0   \n",
       "2                              0                                0   \n",
       "3                              0                                0   \n",
       "4                              0                                0   \n",
       "\n",
       "  thread.country  thread.replies_count  \\\n",
       "0             IN                     0   \n",
       "1             US                     0   \n",
       "2             US                   266   \n",
       "3             US                     0   \n",
       "4             CA                     0   \n",
       "\n",
       "                                 tokenized_sentences  \n",
       "0  [Bengaluru: Isolation wards in hospitals acros...  \n",
       "1  [The government making sure that the new coron...  \n",
       "2  [Apart from more people falling sick (as bad a...  \n",
       "3  [Asian stock markets are mostly higher on Frid...  \n",
       "4  [Cash flow was also “very strong,” at more tha...  "
      ]
     },
     "execution_count": 38,
     "metadata": {},
     "output_type": "execute_result"
    }
   ],
   "source": [
    "#checking contents of dataframe\n",
    "dataframe.head()"
   ]
  },
  {
   "cell_type": "code",
   "execution_count": 11,
   "id": "2ce98d8f",
   "metadata": {},
   "outputs": [],
   "source": [
    "#tokenizing text column from dataframe and saving in another column called tokenized_sentences.\n",
    "dataframe['tokenized_sentences']=dataframe['text'].apply(sent_tokenize)"
   ]
  },
  {
   "cell_type": "code",
   "execution_count": 12,
   "id": "e1321243",
   "metadata": {
    "scrolled": true
   },
   "outputs": [
    {
     "name": "stdout",
     "output_type": "stream",
     "text": [
      "<class 'pandas.core.frame.DataFrame'>\n",
      "RangeIndex: 10956 entries, 0 to 10955\n",
      "Data columns (total 10 columns):\n",
      " #   Column                           Non-Null Count  Dtype \n",
      "---  ------                           --------------  ----- \n",
      " 0   author                           7671 non-null   object\n",
      " 1   url                              10956 non-null  object\n",
      " 2   title                            10625 non-null  object\n",
      " 3   text                             10956 non-null  object\n",
      " 4   published                        10956 non-null  object\n",
      " 5   thread.social.facebook.likes     10956 non-null  int64 \n",
      " 6   thread.social.facebook.shares    10956 non-null  int64 \n",
      " 7   thread.social.facebook.comments  10956 non-null  int64 \n",
      " 8   thread.country                   10865 non-null  object\n",
      " 9   thread.replies_count             10956 non-null  int64 \n",
      "dtypes: int64(4), object(6)\n",
      "memory usage: 856.1+ KB\n"
     ]
    }
   ],
   "source": [
    "#checking dataframe info after tokenization\n",
    "dataframe.info()"
   ]
  },
  {
   "cell_type": "code",
   "execution_count": 15,
   "id": "341943e5",
   "metadata": {},
   "outputs": [
    {
     "data": {
      "text/plain": [
       "10956"
      ]
     },
     "execution_count": 15,
     "metadata": {},
     "output_type": "execute_result"
    }
   ],
   "source": [
    "#no of rows in tokenized_sentences column\n",
    "len(dataframe['tokenized_sentences'])"
   ]
  },
  {
   "cell_type": "code",
   "execution_count": 16,
   "id": "c37112ec",
   "metadata": {},
   "outputs": [],
   "source": [
    "#converting tokenized_sentences into a list of tokenized sentences.\n",
    "tokenized_sentences_list=[]\n",
    "for sentence in dataframe['tokenized_sentences']:\n",
    "    for sent in sentence:\n",
    "        tokenized_sentences_list.append(sent)"
   ]
  },
  {
   "cell_type": "code",
   "execution_count": 39,
   "id": "804a4327",
   "metadata": {},
   "outputs": [
    {
     "data": {
      "text/plain": [
       "248587"
      ]
     },
     "execution_count": 39,
     "metadata": {},
     "output_type": "execute_result"
    }
   ],
   "source": [
    "#no of sentences in all the text\n",
    "len(tokenized_sentences_list)"
   ]
  },
  {
   "cell_type": "code",
   "execution_count": 18,
   "id": "feeaf8ec",
   "metadata": {},
   "outputs": [],
   "source": [
    "#tokenizing each word in every sentence.\n",
    "tokenized_word_list=[nltk.word_tokenize(sentence) for sentence in tokenized_sentences_list]"
   ]
  },
  {
   "cell_type": "code",
   "execution_count": 43,
   "id": "9d2f73cf",
   "metadata": {},
   "outputs": [
    {
     "data": {
      "text/plain": [
       "248587"
      ]
     },
     "execution_count": 43,
     "metadata": {},
     "output_type": "execute_result"
    }
   ],
   "source": [
    "#no of words in all the text including special characters\n",
    "len(tokenized_word_list)"
   ]
  },
  {
   "cell_type": "code",
   "execution_count": 44,
   "id": "72c20d37",
   "metadata": {},
   "outputs": [
    {
     "data": {
      "text/plain": [
       "6914341"
      ]
     },
     "execution_count": 44,
     "metadata": {},
     "output_type": "execute_result"
    }
   ],
   "source": [
    "#taking just words from tokenized word list\n",
    "just_words=[w for s in tokenized_word_list for w in s]\n",
    "#no of just words\n",
    "len(just_words)"
   ]
  },
  {
   "cell_type": "code",
   "execution_count": 47,
   "id": "ae656d9e",
   "metadata": {},
   "outputs": [
    {
     "data": {
      "text/plain": [
       "['Bengaluru',\n",
       " 'Isolation',\n",
       " 'wards',\n",
       " 'in',\n",
       " 'hospitals',\n",
       " 'across',\n",
       " 'Karnataka',\n",
       " 'and',\n",
       " 'helpline',\n",
       " 'to',\n",
       " 'take',\n",
       " 'calls',\n",
       " 'on',\n",
       " 'queries',\n",
       " 'are',\n",
       " 'ready',\n",
       " 'to',\n",
       " 'prevent',\n",
       " 'any',\n",
       " 'further']"
      ]
     },
     "execution_count": 47,
     "metadata": {},
     "output_type": "execute_result"
    }
   ],
   "source": [
    "#extracting justwords that are alphanumeric\n",
    "tokenizedalnum = [w for w in just_words if w.isalnum()]\n",
    "#printing first 20 of tokenizedalnum\n",
    "tokenizedalnum[:20]"
   ]
  },
  {
   "cell_type": "code",
   "execution_count": 49,
   "id": "9f40ce62",
   "metadata": {},
   "outputs": [
    {
     "data": {
      "text/plain": [
       "5770948"
      ]
     },
     "execution_count": 49,
     "metadata": {},
     "output_type": "execute_result"
    }
   ],
   "source": [
    "#no of alphanumeric words in the whole text column\n",
    "len(tokenizedalnum)"
   ]
  },
  {
   "cell_type": "code",
   "execution_count": 50,
   "id": "3f67a695",
   "metadata": {},
   "outputs": [
    {
     "name": "stderr",
     "output_type": "stream",
     "text": [
      "[nltk_data] Downloading package stopwords to\n",
      "[nltk_data]     C:\\Users\\deven\\AppData\\Roaming\\nltk_data...\n",
      "[nltk_data]   Package stopwords is already up-to-date!\n"
     ]
    }
   ],
   "source": [
    "#downloading stopwords in english to check the frequency of rare words not the general english words like the, a etc.,\n",
    "nltk.download('stopwords')\n",
    "stopwords=nltk.corpus.stopwords.words('english')"
   ]
  },
  {
   "cell_type": "code",
   "execution_count": 51,
   "id": "5c73686f",
   "metadata": {},
   "outputs": [],
   "source": [
    "#removing all stop words from words\n",
    "tokenized_without_stopwords=[w.lower() for w in tokenizedalnum if w.lower() not in stopwords]"
   ]
  },
  {
   "cell_type": "code",
   "execution_count": 52,
   "id": "43045951",
   "metadata": {},
   "outputs": [],
   "source": [
    "#importing frequency distribution tools and applying frequency distribution for words.\n",
    "from nltk import FreqDist\n",
    "ndist = FreqDist(tokenized_without_stopwords)"
   ]
  },
  {
   "cell_type": "code",
   "execution_count": 82,
   "id": "2a6c0ee8",
   "metadata": {
    "scrolled": true
   },
   "outputs": [
    {
     "data": {
      "text/plain": [
       "[('china', 45839),\n",
       " ('said', 39957),\n",
       " ('coronavirus', 34402),\n",
       " ('virus', 27327),\n",
       " ('health', 26792),\n",
       " ('people', 21049),\n",
       " ('new', 19472),\n",
       " ('outbreak', 17487),\n",
       " ('wuhan', 17479),\n",
       " ('cases', 15863),\n",
       " ('chinese', 13860),\n",
       " ('also', 13538),\n",
       " ('spread', 12242),\n",
       " ('world', 10996),\n",
       " ('2020', 10995),\n",
       " ('thursday', 10269),\n",
       " ('travel', 10149),\n",
       " ('first', 9825),\n",
       " ('countries', 9657),\n",
       " ('global', 9245)]"
      ]
     },
     "execution_count": 82,
     "metadata": {},
     "output_type": "execute_result"
    }
   ],
   "source": [
    "#top 50 most common words appeared in the text\n",
    "single_word_freq = ndist.most_common(20)\n",
    "single_word_freq"
   ]
  },
  {
   "cell_type": "code",
   "execution_count": 54,
   "id": "4075bc23",
   "metadata": {
    "scrolled": false
   },
   "outputs": [
    {
     "data": {
      "text/plain": [
       "[('bengaluru', 'isolation'),\n",
       " ('isolation', 'wards'),\n",
       " ('wards', 'hospitals'),\n",
       " ('hospitals', 'across'),\n",
       " ('across', 'karnataka'),\n",
       " ('karnataka', 'helpline'),\n",
       " ('helpline', 'take'),\n",
       " ('take', 'calls'),\n",
       " ('calls', 'queries'),\n",
       " ('queries', 'ready'),\n",
       " ('ready', 'prevent'),\n",
       " ('prevent', 'spread'),\n",
       " ('spread', 'virus'),\n",
       " ('virus', 'first'),\n",
       " ('first', 'case'),\n",
       " ('case', 'india'),\n",
       " ('india', 'reported'),\n",
       " ('reported', 'kerala'),\n",
       " ('kerala', 'yesterday'),\n",
       " ('yesterday', 'chief')]"
      ]
     },
     "execution_count": 54,
     "metadata": {},
     "output_type": "execute_result"
    }
   ],
   "source": [
    "text_bigrams = list(nltk.bigrams(tokenized_without_stopwords))\n",
    "text_bigrams[:20]"
   ]
  },
  {
   "cell_type": "code",
   "execution_count": 67,
   "id": "9aa53aa1",
   "metadata": {},
   "outputs": [],
   "source": [
    "#importing bigram measures from nltk collocations\n",
    "from nltk.collocations import *\n",
    "bigram_measures = nltk.collocations.BigramAssocMeasures()"
   ]
  },
  {
   "cell_type": "code",
   "execution_count": 68,
   "id": "e0511ff0",
   "metadata": {},
   "outputs": [],
   "source": [
    "finder = BigramCollocationFinder.from_words(tokenized_without_stopwords)\n",
    "scored = finder.score_ngrams(bigram_measures.raw_freq)"
   ]
  },
  {
   "cell_type": "code",
   "execution_count": 69,
   "id": "a52ec9a5",
   "metadata": {
    "scrolled": true
   },
   "outputs": [
    {
     "data": {
      "text/plain": [
       "[(('world', 'health'), 0.0015141284914086412),\n",
       " (('coronavirus', 'outbreak'), 0.0014633641059408709),\n",
       " (('public', 'health'), 0.0013046153629462827),\n",
       " (('novel', 'coronavirus'), 0.0012591328210531938),\n",
       " (('health', 'organization'), 0.0011220983238656287),\n",
       " (('new', 'virus'), 0.0010695733238729646),\n",
       " (('health', 'emergency'), 0.001029372625554557),\n",
       " (('location', 'text'), 0.0010100058657807253),\n",
       " (('confirmed', 'cases'), 0.0010038437149435973),\n",
       " (('hong', 'kong'), 0.0009548399440007207),\n",
       " (('united', 'states'), 0.0009357666199810382),\n",
       " (('new', 'coronavirus'), 0.0008770794691512459),\n",
       " (('hubei', 'province'), 0.0007872881283816636),\n",
       " (('flights', 'china'), 0.0006696203909679301),\n",
       " (('travel', 'china'), 0.0006663925976722916),\n",
       " (('per', 'cent'), 0.0006499601954399497),\n",
       " (('health', 'officials'), 0.0006050645250551586),\n",
       " (('30', '2020'), 0.0006021301675136689),\n",
       " (('global', 'health'), 0.000593913966397498),\n",
       " (('death', 'toll'), 0.0005927402233809022),\n",
       " (('global', 'emergency'), 0.000586284636789625),\n",
       " (('new', 'year'), 0.0005551804468498351),\n",
       " (('spread', 'virus'), 0.0005534198323249414),\n",
       " (('disease', 'control'), 0.0005531263965707924),\n",
       " (('south', 'korea'), 0.0005428561451755788),\n",
       " (('31', '2020'), 0.000533466201042812),\n",
       " (('mainland', 'china'), 0.0005082307261860013),\n",
       " (('wuhan', 'china'), 0.0004994276535615325),\n",
       " (('virus', 'spread'), 0.0004891574021663188),\n",
       " (('chinese', 'city'), 0.0004615744412763164),\n",
       " (('city', 'wuhan'), 0.0004589335194889758),\n",
       " (('wuhan', 'coronavirus'), 0.00044308798876493185),\n",
       " (('last', 'year'), 0.0004410339384858891),\n",
       " (('text', 'location'), 0.000434284916140463),\n",
       " (('january', '30'), 0.0004313505585989734),\n",
       " (('organization', 'declared'), 0.0004295899440740796),\n",
       " (('outside', 'china'), 0.00042019999994131286),\n",
       " (('threshold', 'type'), 0.00041550502787492946),\n",
       " (('type', 'textpattern'), 0.00041550502787492946),\n",
       " (('textpattern', 'score'), 0.0004084625697753544),\n",
       " (('14', 'days'), 0.0004023004189382262),\n",
       " (('rating', 'green'), 0.00040200698318407723),\n",
       " (('lunar', 'new'), 0.0004011266759216304),\n",
       " (('green', 'name'), 0.0003973120111176939),\n",
       " (('centers', 'disease'), 0.0003937907820679063),\n",
       " (('control', 'prevention'), 0.0003923236032971615),\n",
       " (('january', '31'), 0.00039144329603471464),\n",
       " (('face', 'masks'), 0.00038909581000152294),\n",
       " (('new', 'york'), 0.00038792206698492706),\n",
       " (('people', 'china'), 0.00038645488821418227)]"
      ]
     },
     "execution_count": 69,
     "metadata": {},
     "output_type": "execute_result"
    }
   ],
   "source": [
    "scored[:50]"
   ]
  },
  {
   "cell_type": "code",
   "execution_count": 71,
   "id": "f0b5a7c6",
   "metadata": {
    "scrolled": true
   },
   "outputs": [
    {
     "data": {
      "text/plain": [
       "[(('agus', 'putranto'), 19.37852390011688),\n",
       " (('billows', 'chimney'), 19.37852390011688),\n",
       " (('bosnia', 'herzegovina'), 19.37852390011688),\n",
       " (('brion', 'mcclanahan'), 19.37852390011688),\n",
       " (('chinesedon', 'tcometojapan'), 19.37852390011688),\n",
       " (('cle', 'elum'), 19.37852390011688),\n",
       " (('haruhiko', 'kuroda'), 19.37852390011688),\n",
       " (('motilal', 'oswal'), 19.37852390011688),\n",
       " (('nayanika', 'sengupta'), 19.37852390011688),\n",
       " (('nenad', 'lalovic'), 19.37852390011688),\n",
       " (('rodong', 'sinmun'), 19.37852390011688),\n",
       " (('samdech', 'techo'), 19.37852390011688),\n",
       " (('terawan', 'agus'), 19.37852390011688),\n",
       " (('viêm', 'phổi'), 19.37852390011688),\n",
       " (('yoruk', 'bahceli'), 19.37852390011688),\n",
       " (('abul', 'kalam'), 19.115489494283086),\n",
       " (('cristiano', 'ronaldo'), 19.115489494283086),\n",
       " (('goss', 'barrington'), 19.115489494283086),\n",
       " (('henrik', 'lundqvist'), 19.115489494283086),\n",
       " (('ianis', 'hagi'), 19.115489494283086),\n",
       " (('jadon', 'sancho'), 19.115489494283086),\n",
       " (('lacalle', 'pou'), 19.115489494283086),\n",
       " (('lapo', 'kabwit'), 19.115489494283086),\n",
       " (('leika', 'kihara'), 19.115489494283086),\n",
       " (('marilynn', 'marchione'), 19.115489494283086),\n",
       " (('marinac', 'janney'), 19.115489494283086),\n",
       " (('mayank', 'bhardwaj'), 19.115489494283086),\n",
       " (('nigam', 'prusty'), 19.115489494283086),\n",
       " (('noseheadachecoughsore', 'throatfevera'), 19.115489494283086),\n",
       " (('pyi', 'taw'), 19.115489494283086),\n",
       " (('remy', 'cointreau'), 19.115489494283086),\n",
       " (('resnick', 'ault'), 19.115489494283086),\n",
       " (('sanna', 'kärkkäinen'), 19.115489494283086),\n",
       " (('thant', 'zin'), 19.115489494283086),\n",
       " (('thiri', 'thant'), 19.115489494283086),\n",
       " (('zainal', 'abidin'), 19.115489494283086),\n",
       " (('07810', '791'), 19.115489494283082),\n",
       " (('791', '502'), 19.115489494283082),\n",
       " (('bryn', 'mawr'), 19.115489494283082),\n",
       " (('claudio', 'galimberti'), 19.115489494283082),\n",
       " (('gunjan', 'banerji'), 19.115489494283082),\n",
       " (('kunal', 'kamra'), 19.115489494283082),\n",
       " (('macgregor', 'longbow'), 19.115489494283082),\n",
       " (('nong', 'nooch'), 19.115489494283082),\n",
       " (('ord', 'minnett'), 19.115489494283082),\n",
       " (('sarbananda', 'sonowal'), 19.115489494283082),\n",
       " (('stefanos', 'crist'), 19.115489494283082),\n",
       " (('tihar', 'uncertainity'), 19.115489494283082),\n",
       " (('tuen', 'mun'), 19.115489494283082),\n",
       " (('vibrio', 'mimicus'), 19.115489494283082)]"
      ]
     },
     "execution_count": 71,
     "metadata": {},
     "output_type": "execute_result"
    }
   ],
   "source": [
    "finder2 = BigramCollocationFinder.from_words(tokenized_without_stopwords)\n",
    "finder2.apply_freq_filter(5)\n",
    "scored2 = finder2.score_ngrams(bigram_measures.pmi)\n",
    "scored2[:50]"
   ]
  },
  {
   "cell_type": "code",
   "execution_count": 36,
   "id": "99a23b6f",
   "metadata": {},
   "outputs": [],
   "source": [
    "import matplotlib.pyplot as plt\n",
    "plt.rcParams[\"figure.figsize\"]=5,5"
   ]
  },
  {
   "cell_type": "code",
   "execution_count": 99,
   "id": "27546067",
   "metadata": {
    "scrolled": false
   },
   "outputs": [
    {
     "data": {
      "image/png": "[encoded data removed]",
      "text/plain": [
       "<Figure size 936x936 with 1 Axes>"
      ]
     },
     "metadata": {
      "needs_background": "light"
     },
     "output_type": "display_data"
    }
   ],
   "source": [
    "plt.plot(*zip(*single_word_freq))\n",
    "plt.title('Single Word Frequencies')\n",
    "plt.xlabel('word')\n",
    "plt.ylabel('count')\n",
    "plt.show()"
   ]
  },
  {
   "cell_type": "code",
   "execution_count": 102,
   "id": "ed5187fd",
   "metadata": {
    "scrolled": true
   },
   "outputs": [
    {
     "data": {
      "text/plain": [
       "3341.006480467324"
      ]
     },
     "execution_count": 102,
     "metadata": {},
     "output_type": "execute_result"
    }
   ],
   "source": [
    "dataframe['text'].apply(len).mean()"
   ]
  },
  {
   "cell_type": "code",
   "execution_count": 27,
   "id": "b7ea1856",
   "metadata": {},
   "outputs": [
    {
     "name": "stderr",
     "output_type": "stream",
     "text": [
      "C:\\Users\\deven\\AppData\\Local\\Programs\\Python\\Python310\\lib\\site-packages\\pandas\\core\\arrays\\datetimes.py:1162: UserWarning: Converting to PeriodArray/Index representation will drop timezone information.\n",
      "  warnings.warn(\n"
     ]
    }
   ],
   "source": [
    "dataframe['month_year'] = pd.to_datetime(dataframe['published']).dt.to_period('M')"
   ]
  },
  {
   "cell_type": "code",
   "execution_count": 37,
   "id": "fb09ffff",
   "metadata": {
    "scrolled": false
   },
   "outputs": [
    {
     "data": {
      "text/plain": [
       "<AxesSubplot:>"
      ]
     },
     "execution_count": 37,
     "metadata": {},
     "output_type": "execute_result"
    },
    {
     "data": {
      "image/png": "[encoded data removed]",
      "text/plain": [
       "<Figure size 360x360 with 1 Axes>"
      ]
     },
     "metadata": {
      "needs_background": "light"
     },
     "output_type": "display_data"
    }
   ],
   "source": [
    "dataframe['month_year'].value_counts().plot.bar()"
   ]
  },
  {
   "cell_type": "code",
   "execution_count": 13,
   "id": "a13a3251",
   "metadata": {},
   "outputs": [
    {
     "data": {
      "text/plain": [
       "(10956, 10)"
      ]
     },
     "execution_count": 13,
     "metadata": {},
     "output_type": "execute_result"
    }
   ],
   "source": [
    "#rows x columns\n",
    "dataframe.shape"
   ]
  }
 ],
 "metadata": {
  "kernelspec": {
   "display_name": "Python 3 (ipykernel)",
   "language": "python",
   "name": "python3"
  },
  "language_info": {
   "codemirror_mode": {
    "name": "ipython",
    "version": 3
   },
   "file_extension": ".py",
   "mimetype": "text/x-python",
   "name": "python",
   "nbconvert_exporter": "python",
   "pygments_lexer": "ipython3",
   "version": "3.10.2"
  }
 },
 "nbformat": 4,
 "nbformat_minor": 5
}
